{
  "nbformat": 4,
  "nbformat_minor": 0,
  "metadata": {
    "colab": {
      "name": "python_csv.ipynb",
      "provenance": [],
      "mount_file_id": "1j4s7Ph8xZ86FjhxbIBj7XDobqNTHYori",
      "authorship_tag": "ABX9TyN96M1fib64+/RC4f5Hm7eB",
      "include_colab_link": true
    },
    "kernelspec": {
      "name": "python3",
      "display_name": "Python 3"
    },
    "language_info": {
      "name": "python"
    }
  },
  "cells": [
    {
      "cell_type": "markdown",
      "metadata": {
        "id": "view-in-github",
        "colab_type": "text"
      },
      "source": [
        "<a href=\"https://colab.research.google.com/github/anicelysantos/tutoriais-dados-realpython/blob/main/python_csv.ipynb\" target=\"_parent\"><img src=\"https://colab.research.google.com/assets/colab-badge.svg\" alt=\"Open In Colab\"/></a>"
      ]
    },
    {
      "cell_type": "markdown",
      "metadata": {
        "id": "YBbMS-q0s2se"
      },
      "source": [
        "Esse tutorial pode ser encontrado aqui https://realpython.com/python-csv/"
      ]
    },
    {
      "cell_type": "markdown",
      "metadata": {
        "id": "BHpOBU9uii92"
      },
      "source": [
        "# Lendo e escrevendo arquivos CSV em Python"
      ]
    },
    {
      "cell_type": "code",
      "metadata": {
        "colab": {
          "base_uri": "https://localhost:8080/"
        },
        "id": "4mY2jXJJia1t",
        "outputId": "5cab18db-546a-41bd-c6ef-e96e56ae91fc"
      },
      "source": [
        "import csv\n",
        "\n",
        "with open ('/content/drive/MyDrive/dados_pandas/Real Python/employee_birthday.csv') as csv_file:\n",
        "  csv_reader = csv.reader(csv_file, delimiter=',')\n",
        "  line_count = 0\n",
        "  for row in csv_reader:\n",
        "    if line_count == 0:\n",
        "      print(f'Column names are {\",\".join(row)}')\n",
        "      line_count += 1\n",
        "    else:\n",
        "      print(f'\\t {row[0]} works in the {row[1]} department, and was born in {row[2]}.' )\n",
        "      line_count += 1\n",
        "  print(f'Processed {line_count} lines.')"
      ],
      "execution_count": null,
      "outputs": [
        {
          "output_type": "stream",
          "text": [
            "Column names are name,department,birthday month\n",
            "\t Jhon Smith works in the Accounting department, and was born in November.\n",
            "\t Erica Meyers works in the IT department, and was born in March.\n",
            "Processed 3 lines.\n"
          ],
          "name": "stdout"
        }
      ]
    },
    {
      "cell_type": "markdown",
      "metadata": {
        "id": "g2VHgFLVnxKm"
      },
      "source": [
        "**Fazendo a mesma leitura usando dicionários**"
      ]
    },
    {
      "cell_type": "code",
      "metadata": {
        "colab": {
          "base_uri": "https://localhost:8080/"
        },
        "id": "2z_sGFr7n2Ct",
        "outputId": "0d7a8eb1-2ece-4d57-bfaf-6bc1146be9a3"
      },
      "source": [
        "import csv\n",
        "\n",
        "with open ('/content/drive/MyDrive/dados_pandas/Real Python/employee_birthday.csv', mode='r') as csv_file:\n",
        "  csv_reader = csv.DictReader(csv_file)\n",
        "  line_count = 0\n",
        "  for row in csv_reader:\n",
        "    if line_count == 0:\n",
        "      print(f'Column names are {\",\".join(row)}')\n",
        "      line_count += 1\n",
        "    print(f'\\t{row[\"name\"]} works in the {row[\"department\"]} department, and was born in {row[\"birthday month\"]}.')\n",
        "    line_count += 1\n",
        "  print(f'Processed {line_count} lines.')"
      ],
      "execution_count": null,
      "outputs": [
        {
          "output_type": "stream",
          "text": [
            "Column names are name,department,birthday month\n",
            "\tJhon Smith works in the Accounting department, and was born in November.\n",
            "\tErica Meyers works in the IT department, and was born in March.\n",
            "Processed 3 lines.\n"
          ],
          "name": "stdout"
        }
      ]
    },
    {
      "cell_type": "markdown",
      "metadata": {
        "id": "PVOI9q2fqZb9"
      },
      "source": [
        "**Gravando arquivos CSV com `csv`**\n"
      ]
    },
    {
      "cell_type": "code",
      "metadata": {
        "id": "m0HG1eJpqWU2"
      },
      "source": [
        "import csv\n",
        "\n",
        "with open('employee_file.csv', mode='w') as employee_file:\n",
        "  employee_writer = csv.writer(employee_file, delimiter=',', quotechar='\"', quoting = csv.QUOTE_MINIMAL)\n",
        "\n",
        "  employee_writer.writerow(['John Smith', 'Accounting', 'November'])\n",
        "  employee_writer.writerow(['Erica Meyers','IT','March'])"
      ],
      "execution_count": null,
      "outputs": []
    },
    {
      "cell_type": "markdown",
      "metadata": {
        "id": "mFky97FCuNgt"
      },
      "source": [
        "**Usando dicionários para fazer a mesma coisa**"
      ]
    },
    {
      "cell_type": "code",
      "metadata": {
        "id": "vM5HSNlbuSdE"
      },
      "source": [
        "import csv\n",
        "\n",
        "with open('employee_file2.csv', mode='w') as csv_file:\n",
        "  fieldnames = ['emp_name','dept','birth_month']\n",
        "  writer = csv.DictWriter(csv_file, fieldnames=fieldnames)\n",
        "\n",
        "  writer.writeheader()\n",
        "  writer.writerow({'emp_name':'John Smith', 'dept':'Accounting','birth_month':'November'})\n",
        "  writer.writerow({'emp_name':'Erica Meyers', 'dept':'IT','birth_month':'March'})\n"
      ],
      "execution_count": null,
      "outputs": []
    },
    {
      "cell_type": "markdown",
      "metadata": {
        "id": "o5YdGZu_vd8V"
      },
      "source": [
        ""
      ]
    },
    {
      "cell_type": "markdown",
      "metadata": {
        "id": "o6gvXq-AvgSs"
      },
      "source": [
        "# Analisando arquivos CSV com a biblioteca Pandas"
      ]
    },
    {
      "cell_type": "code",
      "metadata": {
        "id": "fpAVvhDoKMhM"
      },
      "source": [
        "import pandas as pd\n"
      ],
      "execution_count": 14,
      "outputs": []
    },
    {
      "cell_type": "code",
      "metadata": {
        "colab": {
          "base_uri": "https://localhost:8080/"
        },
        "id": "n3SCqGrCKOy3",
        "outputId": "18027bce-071b-4270-cc7d-fa6c9a6693d9"
      },
      "source": [
        "df = pd.read_csv('/content/drive/MyDrive/dados_pandas/Real Python/hrdata.csv')\n",
        "print(df)"
      ],
      "execution_count": 15,
      "outputs": [
        {
          "output_type": "stream",
          "text": [
            "             name      Hire     Date  Sick Days remaining\n",
            "0  Graham Chapman  03/15/14  50000.0                   10\n",
            "1     John Cleese  06/01/15  65000.0                    8\n",
            "2       Eric Idle  05/12/14  45000.0                   10\n",
            "3     Terry Jones  11/01/13  70000.0                    3\n",
            "4   Terry Gilliam  08/12/14  48000.0                    7\n",
            "5   Michael Palin  05/23/13  66000.0                    8\n"
          ],
          "name": "stdout"
        }
      ]
    },
    {
      "cell_type": "code",
      "metadata": {
        "colab": {
          "base_uri": "https://localhost:8080/"
        },
        "id": "u9qOzvPnLAbQ",
        "outputId": "bdccf644-9665-4e5b-98a0-126dfbe9642c"
      },
      "source": [
        "print(type(df['Hire'][0]))"
      ],
      "execution_count": 17,
      "outputs": [
        {
          "output_type": "stream",
          "text": [
            "<class 'str'>\n"
          ],
          "name": "stdout"
        }
      ]
    },
    {
      "cell_type": "code",
      "metadata": {
        "colab": {
          "base_uri": "https://localhost:8080/"
        },
        "id": "2JgvO-5PLN8X",
        "outputId": "90a79ce9-35e8-4647-a056-136ba5c6bab2"
      },
      "source": [
        "#Transformar uma coluna em índice\n",
        "df = pd.read_csv('/content/drive/MyDrive/dados_pandas/Real Python/hrdata.csv', index_col='Name')\n",
        "print(df)"
      ],
      "execution_count": 19,
      "outputs": [
        {
          "output_type": "stream",
          "text": [
            "                    Hire     Date  Sick Days remaining\n",
            "name                                                  \n",
            "Graham Chapman  03/15/14  50000.0                   10\n",
            "John Cleese     06/01/15  65000.0                    8\n",
            "Eric Idle       05/12/14  45000.0                   10\n",
            "Terry Jones     11/01/13  70000.0                    3\n",
            "Terry Gilliam   08/12/14  48000.0                    7\n",
            "Michael Palin   05/23/13  66000.0                    8\n"
          ],
          "name": "stdout"
        }
      ]
    },
    {
      "cell_type": "code",
      "metadata": {
        "colab": {
          "base_uri": "https://localhost:8080/"
        },
        "id": "knA7JF_SLnNo",
        "outputId": "ba05563e-72a2-4578-b691-00927336be4f"
      },
      "source": [
        "#Mudar o formato da coluna data para date\n",
        "df = pd.read_csv('/content/drive/MyDrive/dados_pandas/Real Python/hrdata.csv', index_col='Name', parse_dates=['Hire Date'])\n",
        "print(df)"
      ],
      "execution_count": 21,
      "outputs": [
        {
          "output_type": "stream",
          "text": [
            "                Hire Date   Salary  Sick Days remaining\n",
            "Name                                                   \n",
            "Graham Chapman 2014-03-15  50000.0                   10\n",
            "John Cleese    2015-06-01  65000.0                    8\n",
            "Eric Idle      2014-05-12  45000.0                   10\n",
            "Terry Jones    2013-11-01  70000.0                    3\n",
            "Terry Gilliam  2014-08-12  48000.0                    7\n",
            "Michael Palin  2013-05-23  66000.0                    8\n"
          ],
          "name": "stdout"
        }
      ]
    },
    {
      "cell_type": "code",
      "metadata": {
        "colab": {
          "base_uri": "https://localhost:8080/"
        },
        "id": "bhw2Fnb4L5vb",
        "outputId": "33237a73-4a79-4171-987c-a75abb5e6fed"
      },
      "source": [
        "print(type(df['Hire Date'][0]))"
      ],
      "execution_count": 22,
      "outputs": [
        {
          "output_type": "stream",
          "text": [
            "<class 'pandas._libs.tslibs.timestamps.Timestamp'>\n"
          ],
          "name": "stdout"
        }
      ]
    },
    {
      "cell_type": "code",
      "metadata": {
        "colab": {
          "base_uri": "https://localhost:8080/"
        },
        "id": "-_OidubqMzR4",
        "outputId": "d593f80c-96c7-4b15-c648-1a0a7ff314bd"
      },
      "source": [
        "df = pd.read_csv('/content/drive/MyDrive/dados_pandas/Real Python/hrdata.csv', index_col='Employee', parse_dates=['Hired'], header=0, names=['Employee','Hired','Salary','Sick Days'])\n",
        "print(df)"
      ],
      "execution_count": 23,
      "outputs": [
        {
          "output_type": "stream",
          "text": [
            "                    Hired   Salary  Sick Days\n",
            "Employee                                     \n",
            "Graham Chapman 2014-03-15  50000.0         10\n",
            "John Cleese    2015-06-01  65000.0          8\n",
            "Eric Idle      2014-05-12  45000.0         10\n",
            "Terry Jones    2013-11-01  70000.0          3\n",
            "Terry Gilliam  2014-08-12  48000.0          7\n",
            "Michael Palin  2013-05-23  66000.0          8\n"
          ],
          "name": "stdout"
        }
      ]
    },
    {
      "cell_type": "markdown",
      "metadata": {
        "id": "G2o3CxIUN5sR"
      },
      "source": [
        "**Salvando um CSV**"
      ]
    },
    {
      "cell_type": "code",
      "metadata": {
        "id": "xS-7WW5PNitc"
      },
      "source": [
        "df = pd.read_csv('/content/drive/MyDrive/dados_pandas/Real Python/hrdata.csv', index_col='Employee',parse_dates=['Hired'],header=0, names=['Employee','Hired','Salary','Sick Days'])"
      ],
      "execution_count": 24,
      "outputs": []
    },
    {
      "cell_type": "code",
      "metadata": {
        "id": "zGBw-g3HOb5P"
      },
      "source": [
        "df.to_csv('hrdata_modified.csv')"
      ],
      "execution_count": 26,
      "outputs": []
    },
    {
      "cell_type": "code",
      "metadata": {
        "colab": {
          "base_uri": "https://localhost:8080/",
          "height": 234
        },
        "id": "pD3nsnipOqa7",
        "outputId": "867c7ed8-24c3-466e-9e47-b13d8e266f9c"
      },
      "source": [
        "df_m = pd.read_csv('/content/hrdata_modified.csv')\n",
        "df_m"
      ],
      "execution_count": 27,
      "outputs": [
        {
          "output_type": "execute_result",
          "data": {
            "text/html": [
              "<div>\n",
              "<style scoped>\n",
              "    .dataframe tbody tr th:only-of-type {\n",
              "        vertical-align: middle;\n",
              "    }\n",
              "\n",
              "    .dataframe tbody tr th {\n",
              "        vertical-align: top;\n",
              "    }\n",
              "\n",
              "    .dataframe thead th {\n",
              "        text-align: right;\n",
              "    }\n",
              "</style>\n",
              "<table border=\"1\" class=\"dataframe\">\n",
              "  <thead>\n",
              "    <tr style=\"text-align: right;\">\n",
              "      <th></th>\n",
              "      <th>Employee</th>\n",
              "      <th>Hired</th>\n",
              "      <th>Salary</th>\n",
              "      <th>Sick Days</th>\n",
              "    </tr>\n",
              "  </thead>\n",
              "  <tbody>\n",
              "    <tr>\n",
              "      <th>0</th>\n",
              "      <td>Graham Chapman</td>\n",
              "      <td>2014-03-15</td>\n",
              "      <td>50000.0</td>\n",
              "      <td>10</td>\n",
              "    </tr>\n",
              "    <tr>\n",
              "      <th>1</th>\n",
              "      <td>John Cleese</td>\n",
              "      <td>2015-06-01</td>\n",
              "      <td>65000.0</td>\n",
              "      <td>8</td>\n",
              "    </tr>\n",
              "    <tr>\n",
              "      <th>2</th>\n",
              "      <td>Eric Idle</td>\n",
              "      <td>2014-05-12</td>\n",
              "      <td>45000.0</td>\n",
              "      <td>10</td>\n",
              "    </tr>\n",
              "    <tr>\n",
              "      <th>3</th>\n",
              "      <td>Terry Jones</td>\n",
              "      <td>2013-11-01</td>\n",
              "      <td>70000.0</td>\n",
              "      <td>3</td>\n",
              "    </tr>\n",
              "    <tr>\n",
              "      <th>4</th>\n",
              "      <td>Terry Gilliam</td>\n",
              "      <td>2014-08-12</td>\n",
              "      <td>48000.0</td>\n",
              "      <td>7</td>\n",
              "    </tr>\n",
              "    <tr>\n",
              "      <th>5</th>\n",
              "      <td>Michael Palin</td>\n",
              "      <td>2013-05-23</td>\n",
              "      <td>66000.0</td>\n",
              "      <td>8</td>\n",
              "    </tr>\n",
              "  </tbody>\n",
              "</table>\n",
              "</div>"
            ],
            "text/plain": [
              "         Employee       Hired   Salary  Sick Days\n",
              "0  Graham Chapman  2014-03-15  50000.0         10\n",
              "1     John Cleese  2015-06-01  65000.0          8\n",
              "2       Eric Idle  2014-05-12  45000.0         10\n",
              "3     Terry Jones  2013-11-01  70000.0          3\n",
              "4   Terry Gilliam  2014-08-12  48000.0          7\n",
              "5   Michael Palin  2013-05-23  66000.0          8"
            ]
          },
          "metadata": {},
          "execution_count": 27
        }
      ]
    }
  ]
}