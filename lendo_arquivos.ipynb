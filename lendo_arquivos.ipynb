{
  "nbformat": 4,
  "nbformat_minor": 0,
  "metadata": {
    "colab": {
      "name": "lendo-arquivos.ipynb",
      "provenance": [],
      "mount_file_id": "1i42s-C7LWB2h4hqQCpNzD67x39BR3cEK",
      "authorship_tag": "ABX9TyOrdjIo+0/qmUjQLwx2Y67C",
      "include_colab_link": true
    },
    "kernelspec": {
      "name": "python3",
      "display_name": "Python 3"
    },
    "language_info": {
      "name": "python"
    }
  },
  "cells": [
    {
      "cell_type": "markdown",
      "metadata": {
        "id": "view-in-github",
        "colab_type": "text"
      },
      "source": [
        "<a href=\"https://colab.research.google.com/github/anicelysantos/tutoriais-dados-realpython/blob/main/lendo_arquivos.ipynb\" target=\"_parent\"><img src=\"https://colab.research.google.com/assets/colab-badge.svg\" alt=\"Open In Colab\"/></a>"
      ]
    },
    {
      "cell_type": "markdown",
      "metadata": {
        "id": "vB3Gx7dtS321"
      },
      "source": [
        "\n",
        "*Estudos feitos a partir [desse tutorial](https://realpython.com/pandas-read-write-files/) do site Real Python.*"
      ]
    },
    {
      "cell_type": "code",
      "metadata": {
        "id": "dSy6vyZkQqXL"
      },
      "source": [
        "import pandas as pd\n",
        "import numpy as np"
      ],
      "execution_count": 1,
      "outputs": []
    },
    {
      "cell_type": "markdown",
      "metadata": {
        "id": "s_DGcX_4VnCY"
      },
      "source": [
        "# Criando uma base de dados"
      ]
    },
    {
      "cell_type": "code",
      "metadata": {
        "id": "31Q2OAvJTZlN"
      },
      "source": [
        "data = {'CHN': {'COUNTRY': 'China', 'POP': 1_398.72, 'AREA': 9_596.96,\n",
        "            'GDP': 12_234.78, 'CONT': 'Asia'},\n",
        "    'IND': {'COUNTRY': 'India', 'POP': 1_351.16, 'AREA': 3_287.26,\n",
        "            'GDP': 2_575.67, 'CONT': 'Asia', 'IND_DAY': '1947-08-15'},\n",
        "    'USA': {'COUNTRY': 'US', 'POP': 329.74, 'AREA': 9_833.52,\n",
        "            'GDP': 19_485.39, 'CONT': 'N.America',\n",
        "            'IND_DAY': '1776-07-04'},\n",
        "    'IDN': {'COUNTRY': 'Indonesia', 'POP': 268.07, 'AREA': 1_910.93,\n",
        "            'GDP': 1_015.54, 'CONT': 'Asia', 'IND_DAY': '1945-08-17'},\n",
        "    'BRA': {'COUNTRY': 'Brazil', 'POP': 210.32, 'AREA': 8_515.77,\n",
        "            'GDP': 2_055.51, 'CONT': 'S.America', 'IND_DAY': '1822-09-07'},\n",
        "    'PAK': {'COUNTRY': 'Pakistan', 'POP': 205.71, 'AREA': 881.91,\n",
        "            'GDP': 302.14, 'CONT': 'Asia', 'IND_DAY': '1947-08-14'},\n",
        "    'NGA': {'COUNTRY': 'Nigeria', 'POP': 200.96, 'AREA': 923.77,\n",
        "            'GDP': 375.77, 'CONT': 'Africa', 'IND_DAY': '1960-10-01'},\n",
        "    'BGD': {'COUNTRY': 'Bangladesh', 'POP': 167.09, 'AREA': 147.57,\n",
        "            'GDP': 245.63, 'CONT': 'Asia', 'IND_DAY': '1971-03-26'},\n",
        "    'RUS': {'COUNTRY': 'Russia', 'POP': 146.79, 'AREA': 17_098.25,\n",
        "            'GDP': 1_530.75, 'IND_DAY': '1992-06-12'},\n",
        "    'MEX': {'COUNTRY': 'Mexico', 'POP': 126.58, 'AREA': 1_964.38,\n",
        "            'GDP': 1_158.23, 'CONT': 'N.America', 'IND_DAY': '1810-09-16'},\n",
        "    'JPN': {'COUNTRY': 'Japan', 'POP': 126.22, 'AREA': 377.97,\n",
        "            'GDP': 4_872.42, 'CONT': 'Asia'},\n",
        "    'DEU': {'COUNTRY': 'Germany', 'POP': 83.02, 'AREA': 357.11,\n",
        "            'GDP': 3_693.20, 'CONT': 'Europe'},\n",
        "    'FRA': {'COUNTRY': 'France', 'POP': 67.02, 'AREA': 640.68,\n",
        "            'GDP': 2_582.49, 'CONT': 'Europe', 'IND_DAY': '1789-07-14'},\n",
        "    'GBR': {'COUNTRY': 'UK', 'POP': 66.44, 'AREA': 242.50,\n",
        "            'GDP': 2_631.23, 'CONT': 'Europe'},\n",
        "    'ITA': {'COUNTRY': 'Italy', 'POP': 60.36, 'AREA': 301.34,\n",
        "            'GDP': 1_943.84, 'CONT': 'Europe'},\n",
        "    'ARG': {'COUNTRY': 'Argentina', 'POP': 44.94, 'AREA': 2_780.40,\n",
        "            'GDP': 637.49, 'CONT': 'S.America', 'IND_DAY': '1816-07-09'},\n",
        "    'DZA': {'COUNTRY': 'Algeria', 'POP': 43.38, 'AREA': 2_381.74,\n",
        "            'GDP': 167.56, 'CONT': 'Africa', 'IND_DAY': '1962-07-05'},\n",
        "    'CAN': {'COUNTRY': 'Canada', 'POP': 37.59, 'AREA': 9_984.67,\n",
        "            'GDP': 1_647.12, 'CONT': 'N.America', 'IND_DAY': '1867-07-01'},\n",
        "    'AUS': {'COUNTRY': 'Australia', 'POP': 25.47, 'AREA': 7_692.02,\n",
        "            'GDP': 1_408.68, 'CONT': 'Oceania'},\n",
        "    'KAZ': {'COUNTRY': 'Kazakhstan', 'POP': 18.53, 'AREA': 2_724.90,\n",
        "            'GDP': 159.41, 'CONT': 'Asia', 'IND_DAY': '1991-12-16'}}\n",
        "columns = ('COUNTRY', 'POP', 'AREA', 'GDP', 'CONT', 'IND_DAY')"
      ],
      "execution_count": 2,
      "outputs": []
    },
    {
      "cell_type": "code",
      "metadata": {
        "colab": {
          "base_uri": "https://localhost:8080/"
        },
        "id": "gGuFD4HjUlRk",
        "outputId": "10776563-801d-4066-e4d4-a98ff0aefb73"
      },
      "source": [
        "#O titulo da linha passa a ser coluna e o titulo da coluna passa a ser linha (vice versa)\n",
        "df = pd.DataFrame(data=data).T\n",
        "df"
      ],
      "execution_count": null,
      "outputs": [
        {
          "output_type": "execute_result",
          "data": {
            "text/html": [
              "<div>\n",
              "<style scoped>\n",
              "    .dataframe tbody tr th:only-of-type {\n",
              "        vertical-align: middle;\n",
              "    }\n",
              "\n",
              "    .dataframe tbody tr th {\n",
              "        vertical-align: top;\n",
              "    }\n",
              "\n",
              "    .dataframe thead th {\n",
              "        text-align: right;\n",
              "    }\n",
              "</style>\n",
              "<table border=\"1\" class=\"dataframe\">\n",
              "  <thead>\n",
              "    <tr style=\"text-align: right;\">\n",
              "      <th></th>\n",
              "      <th>COUNTRY</th>\n",
              "      <th>POP</th>\n",
              "      <th>AREA</th>\n",
              "      <th>GDP</th>\n",
              "      <th>CONT</th>\n",
              "      <th>IND_DAY</th>\n",
              "    </tr>\n",
              "  </thead>\n",
              "  <tbody>\n",
              "    <tr>\n",
              "      <th>CHN</th>\n",
              "      <td>China</td>\n",
              "      <td>1398.72</td>\n",
              "      <td>9596.96</td>\n",
              "      <td>12234.8</td>\n",
              "      <td>Asia</td>\n",
              "      <td>NaN</td>\n",
              "    </tr>\n",
              "    <tr>\n",
              "      <th>IND</th>\n",
              "      <td>India</td>\n",
              "      <td>1351.16</td>\n",
              "      <td>3287.26</td>\n",
              "      <td>2575.67</td>\n",
              "      <td>Asia</td>\n",
              "      <td>1947-08-15</td>\n",
              "    </tr>\n",
              "    <tr>\n",
              "      <th>USA</th>\n",
              "      <td>US</td>\n",
              "      <td>329.74</td>\n",
              "      <td>9833.52</td>\n",
              "      <td>19485.4</td>\n",
              "      <td>N.America</td>\n",
              "      <td>1776-07-04</td>\n",
              "    </tr>\n",
              "    <tr>\n",
              "      <th>IDN</th>\n",
              "      <td>Indonesia</td>\n",
              "      <td>268.07</td>\n",
              "      <td>1910.93</td>\n",
              "      <td>1015.54</td>\n",
              "      <td>Asia</td>\n",
              "      <td>1945-08-17</td>\n",
              "    </tr>\n",
              "    <tr>\n",
              "      <th>BRA</th>\n",
              "      <td>Brazil</td>\n",
              "      <td>210.32</td>\n",
              "      <td>8515.77</td>\n",
              "      <td>2055.51</td>\n",
              "      <td>S.America</td>\n",
              "      <td>1822-09-07</td>\n",
              "    </tr>\n",
              "    <tr>\n",
              "      <th>PAK</th>\n",
              "      <td>Pakistan</td>\n",
              "      <td>205.71</td>\n",
              "      <td>881.91</td>\n",
              "      <td>302.14</td>\n",
              "      <td>Asia</td>\n",
              "      <td>1947-08-14</td>\n",
              "    </tr>\n",
              "    <tr>\n",
              "      <th>NGA</th>\n",
              "      <td>Nigeria</td>\n",
              "      <td>200.96</td>\n",
              "      <td>923.77</td>\n",
              "      <td>375.77</td>\n",
              "      <td>Africa</td>\n",
              "      <td>1960-10-01</td>\n",
              "    </tr>\n",
              "    <tr>\n",
              "      <th>BGD</th>\n",
              "      <td>Bangladesh</td>\n",
              "      <td>167.09</td>\n",
              "      <td>147.57</td>\n",
              "      <td>245.63</td>\n",
              "      <td>Asia</td>\n",
              "      <td>1971-03-26</td>\n",
              "    </tr>\n",
              "    <tr>\n",
              "      <th>RUS</th>\n",
              "      <td>Russia</td>\n",
              "      <td>146.79</td>\n",
              "      <td>17098.2</td>\n",
              "      <td>1530.75</td>\n",
              "      <td>NaN</td>\n",
              "      <td>1992-06-12</td>\n",
              "    </tr>\n",
              "    <tr>\n",
              "      <th>MEX</th>\n",
              "      <td>Mexico</td>\n",
              "      <td>126.58</td>\n",
              "      <td>1964.38</td>\n",
              "      <td>1158.23</td>\n",
              "      <td>N.America</td>\n",
              "      <td>1810-09-16</td>\n",
              "    </tr>\n",
              "    <tr>\n",
              "      <th>JPN</th>\n",
              "      <td>Japan</td>\n",
              "      <td>126.22</td>\n",
              "      <td>377.97</td>\n",
              "      <td>4872.42</td>\n",
              "      <td>Asia</td>\n",
              "      <td>NaN</td>\n",
              "    </tr>\n",
              "    <tr>\n",
              "      <th>DEU</th>\n",
              "      <td>Germany</td>\n",
              "      <td>83.02</td>\n",
              "      <td>357.11</td>\n",
              "      <td>3693.2</td>\n",
              "      <td>Europe</td>\n",
              "      <td>NaN</td>\n",
              "    </tr>\n",
              "    <tr>\n",
              "      <th>FRA</th>\n",
              "      <td>France</td>\n",
              "      <td>67.02</td>\n",
              "      <td>640.68</td>\n",
              "      <td>2582.49</td>\n",
              "      <td>Europe</td>\n",
              "      <td>1789-07-14</td>\n",
              "    </tr>\n",
              "    <tr>\n",
              "      <th>GBR</th>\n",
              "      <td>UK</td>\n",
              "      <td>66.44</td>\n",
              "      <td>242.5</td>\n",
              "      <td>2631.23</td>\n",
              "      <td>Europe</td>\n",
              "      <td>NaN</td>\n",
              "    </tr>\n",
              "    <tr>\n",
              "      <th>ITA</th>\n",
              "      <td>Italy</td>\n",
              "      <td>60.36</td>\n",
              "      <td>301.34</td>\n",
              "      <td>1943.84</td>\n",
              "      <td>Europe</td>\n",
              "      <td>NaN</td>\n",
              "    </tr>\n",
              "    <tr>\n",
              "      <th>ARG</th>\n",
              "      <td>Argentina</td>\n",
              "      <td>44.94</td>\n",
              "      <td>2780.4</td>\n",
              "      <td>637.49</td>\n",
              "      <td>S.America</td>\n",
              "      <td>1816-07-09</td>\n",
              "    </tr>\n",
              "    <tr>\n",
              "      <th>DZA</th>\n",
              "      <td>Algeria</td>\n",
              "      <td>43.38</td>\n",
              "      <td>2381.74</td>\n",
              "      <td>167.56</td>\n",
              "      <td>Africa</td>\n",
              "      <td>1962-07-05</td>\n",
              "    </tr>\n",
              "    <tr>\n",
              "      <th>CAN</th>\n",
              "      <td>Canada</td>\n",
              "      <td>37.59</td>\n",
              "      <td>9984.67</td>\n",
              "      <td>1647.12</td>\n",
              "      <td>N.America</td>\n",
              "      <td>1867-07-01</td>\n",
              "    </tr>\n",
              "    <tr>\n",
              "      <th>AUS</th>\n",
              "      <td>Australia</td>\n",
              "      <td>25.47</td>\n",
              "      <td>7692.02</td>\n",
              "      <td>1408.68</td>\n",
              "      <td>Oceania</td>\n",
              "      <td>NaN</td>\n",
              "    </tr>\n",
              "    <tr>\n",
              "      <th>KAZ</th>\n",
              "      <td>Kazakhstan</td>\n",
              "      <td>18.53</td>\n",
              "      <td>2724.9</td>\n",
              "      <td>159.41</td>\n",
              "      <td>Asia</td>\n",
              "      <td>1991-12-16</td>\n",
              "    </tr>\n",
              "  </tbody>\n",
              "</table>\n",
              "</div>"
            ],
            "text/plain": [
              "        COUNTRY      POP     AREA      GDP       CONT     IND_DAY\n",
              "CHN       China  1398.72  9596.96  12234.8       Asia         NaN\n",
              "IND       India  1351.16  3287.26  2575.67       Asia  1947-08-15\n",
              "USA          US   329.74  9833.52  19485.4  N.America  1776-07-04\n",
              "IDN   Indonesia   268.07  1910.93  1015.54       Asia  1945-08-17\n",
              "BRA      Brazil   210.32  8515.77  2055.51  S.America  1822-09-07\n",
              "PAK    Pakistan   205.71   881.91   302.14       Asia  1947-08-14\n",
              "NGA     Nigeria   200.96   923.77   375.77     Africa  1960-10-01\n",
              "BGD  Bangladesh   167.09   147.57   245.63       Asia  1971-03-26\n",
              "RUS      Russia   146.79  17098.2  1530.75        NaN  1992-06-12\n",
              "MEX      Mexico   126.58  1964.38  1158.23  N.America  1810-09-16\n",
              "JPN       Japan   126.22   377.97  4872.42       Asia         NaN\n",
              "DEU     Germany    83.02   357.11   3693.2     Europe         NaN\n",
              "FRA      France    67.02   640.68  2582.49     Europe  1789-07-14\n",
              "GBR          UK    66.44    242.5  2631.23     Europe         NaN\n",
              "ITA       Italy    60.36   301.34  1943.84     Europe         NaN\n",
              "ARG   Argentina    44.94   2780.4   637.49  S.America  1816-07-09\n",
              "DZA     Algeria    43.38  2381.74   167.56     Africa  1962-07-05\n",
              "CAN      Canada    37.59  9984.67  1647.12  N.America  1867-07-01\n",
              "AUS   Australia    25.47  7692.02  1408.68    Oceania         NaN\n",
              "KAZ  Kazakhstan    18.53   2724.9   159.41       Asia  1991-12-16"
            ]
          },
          "metadata": {},
          "execution_count": 57
        }
      ]
    },
    {
      "cell_type": "code",
      "metadata": {
        "colab": {
          "base_uri": "https://localhost:8080/"
        },
        "id": "mNGSVNLKUy6U",
        "outputId": "e346d597-9391-494e-ccff-aa5bb74a9f47"
      },
      "source": [
        "#index=columns garante que o indice seja mantido caso a versão do Python seja antiga\n",
        "df = pd.DataFrame(data=data, index=columns).T\n",
        "df"
      ],
      "execution_count": null,
      "outputs": [
        {
          "output_type": "execute_result",
          "data": {
            "text/html": [
              "<div>\n",
              "<style scoped>\n",
              "    .dataframe tbody tr th:only-of-type {\n",
              "        vertical-align: middle;\n",
              "    }\n",
              "\n",
              "    .dataframe tbody tr th {\n",
              "        vertical-align: top;\n",
              "    }\n",
              "\n",
              "    .dataframe thead th {\n",
              "        text-align: right;\n",
              "    }\n",
              "</style>\n",
              "<table border=\"1\" class=\"dataframe\">\n",
              "  <thead>\n",
              "    <tr style=\"text-align: right;\">\n",
              "      <th></th>\n",
              "      <th>COUNTRY</th>\n",
              "      <th>POP</th>\n",
              "      <th>AREA</th>\n",
              "      <th>GDP</th>\n",
              "      <th>CONT</th>\n",
              "      <th>IND_DAY</th>\n",
              "    </tr>\n",
              "  </thead>\n",
              "  <tbody>\n",
              "    <tr>\n",
              "      <th>CHN</th>\n",
              "      <td>China</td>\n",
              "      <td>1398.72</td>\n",
              "      <td>9596.96</td>\n",
              "      <td>12234.8</td>\n",
              "      <td>Asia</td>\n",
              "      <td>NaN</td>\n",
              "    </tr>\n",
              "    <tr>\n",
              "      <th>IND</th>\n",
              "      <td>India</td>\n",
              "      <td>1351.16</td>\n",
              "      <td>3287.26</td>\n",
              "      <td>2575.67</td>\n",
              "      <td>Asia</td>\n",
              "      <td>1947-08-15</td>\n",
              "    </tr>\n",
              "    <tr>\n",
              "      <th>USA</th>\n",
              "      <td>US</td>\n",
              "      <td>329.74</td>\n",
              "      <td>9833.52</td>\n",
              "      <td>19485.4</td>\n",
              "      <td>N.America</td>\n",
              "      <td>1776-07-04</td>\n",
              "    </tr>\n",
              "    <tr>\n",
              "      <th>IDN</th>\n",
              "      <td>Indonesia</td>\n",
              "      <td>268.07</td>\n",
              "      <td>1910.93</td>\n",
              "      <td>1015.54</td>\n",
              "      <td>Asia</td>\n",
              "      <td>1945-08-17</td>\n",
              "    </tr>\n",
              "    <tr>\n",
              "      <th>BRA</th>\n",
              "      <td>Brazil</td>\n",
              "      <td>210.32</td>\n",
              "      <td>8515.77</td>\n",
              "      <td>2055.51</td>\n",
              "      <td>S.America</td>\n",
              "      <td>1822-09-07</td>\n",
              "    </tr>\n",
              "    <tr>\n",
              "      <th>PAK</th>\n",
              "      <td>Pakistan</td>\n",
              "      <td>205.71</td>\n",
              "      <td>881.91</td>\n",
              "      <td>302.14</td>\n",
              "      <td>Asia</td>\n",
              "      <td>1947-08-14</td>\n",
              "    </tr>\n",
              "    <tr>\n",
              "      <th>NGA</th>\n",
              "      <td>Nigeria</td>\n",
              "      <td>200.96</td>\n",
              "      <td>923.77</td>\n",
              "      <td>375.77</td>\n",
              "      <td>Africa</td>\n",
              "      <td>1960-10-01</td>\n",
              "    </tr>\n",
              "    <tr>\n",
              "      <th>BGD</th>\n",
              "      <td>Bangladesh</td>\n",
              "      <td>167.09</td>\n",
              "      <td>147.57</td>\n",
              "      <td>245.63</td>\n",
              "      <td>Asia</td>\n",
              "      <td>1971-03-26</td>\n",
              "    </tr>\n",
              "    <tr>\n",
              "      <th>RUS</th>\n",
              "      <td>Russia</td>\n",
              "      <td>146.79</td>\n",
              "      <td>17098.2</td>\n",
              "      <td>1530.75</td>\n",
              "      <td>NaN</td>\n",
              "      <td>1992-06-12</td>\n",
              "    </tr>\n",
              "    <tr>\n",
              "      <th>MEX</th>\n",
              "      <td>Mexico</td>\n",
              "      <td>126.58</td>\n",
              "      <td>1964.38</td>\n",
              "      <td>1158.23</td>\n",
              "      <td>N.America</td>\n",
              "      <td>1810-09-16</td>\n",
              "    </tr>\n",
              "    <tr>\n",
              "      <th>JPN</th>\n",
              "      <td>Japan</td>\n",
              "      <td>126.22</td>\n",
              "      <td>377.97</td>\n",
              "      <td>4872.42</td>\n",
              "      <td>Asia</td>\n",
              "      <td>NaN</td>\n",
              "    </tr>\n",
              "    <tr>\n",
              "      <th>DEU</th>\n",
              "      <td>Germany</td>\n",
              "      <td>83.02</td>\n",
              "      <td>357.11</td>\n",
              "      <td>3693.2</td>\n",
              "      <td>Europe</td>\n",
              "      <td>NaN</td>\n",
              "    </tr>\n",
              "    <tr>\n",
              "      <th>FRA</th>\n",
              "      <td>France</td>\n",
              "      <td>67.02</td>\n",
              "      <td>640.68</td>\n",
              "      <td>2582.49</td>\n",
              "      <td>Europe</td>\n",
              "      <td>1789-07-14</td>\n",
              "    </tr>\n",
              "    <tr>\n",
              "      <th>GBR</th>\n",
              "      <td>UK</td>\n",
              "      <td>66.44</td>\n",
              "      <td>242.5</td>\n",
              "      <td>2631.23</td>\n",
              "      <td>Europe</td>\n",
              "      <td>NaN</td>\n",
              "    </tr>\n",
              "    <tr>\n",
              "      <th>ITA</th>\n",
              "      <td>Italy</td>\n",
              "      <td>60.36</td>\n",
              "      <td>301.34</td>\n",
              "      <td>1943.84</td>\n",
              "      <td>Europe</td>\n",
              "      <td>NaN</td>\n",
              "    </tr>\n",
              "    <tr>\n",
              "      <th>ARG</th>\n",
              "      <td>Argentina</td>\n",
              "      <td>44.94</td>\n",
              "      <td>2780.4</td>\n",
              "      <td>637.49</td>\n",
              "      <td>S.America</td>\n",
              "      <td>1816-07-09</td>\n",
              "    </tr>\n",
              "    <tr>\n",
              "      <th>DZA</th>\n",
              "      <td>Algeria</td>\n",
              "      <td>43.38</td>\n",
              "      <td>2381.74</td>\n",
              "      <td>167.56</td>\n",
              "      <td>Africa</td>\n",
              "      <td>1962-07-05</td>\n",
              "    </tr>\n",
              "    <tr>\n",
              "      <th>CAN</th>\n",
              "      <td>Canada</td>\n",
              "      <td>37.59</td>\n",
              "      <td>9984.67</td>\n",
              "      <td>1647.12</td>\n",
              "      <td>N.America</td>\n",
              "      <td>1867-07-01</td>\n",
              "    </tr>\n",
              "    <tr>\n",
              "      <th>AUS</th>\n",
              "      <td>Australia</td>\n",
              "      <td>25.47</td>\n",
              "      <td>7692.02</td>\n",
              "      <td>1408.68</td>\n",
              "      <td>Oceania</td>\n",
              "      <td>NaN</td>\n",
              "    </tr>\n",
              "    <tr>\n",
              "      <th>KAZ</th>\n",
              "      <td>Kazakhstan</td>\n",
              "      <td>18.53</td>\n",
              "      <td>2724.9</td>\n",
              "      <td>159.41</td>\n",
              "      <td>Asia</td>\n",
              "      <td>1991-12-16</td>\n",
              "    </tr>\n",
              "  </tbody>\n",
              "</table>\n",
              "</div>"
            ],
            "text/plain": [
              "        COUNTRY      POP     AREA      GDP       CONT     IND_DAY\n",
              "CHN       China  1398.72  9596.96  12234.8       Asia         NaN\n",
              "IND       India  1351.16  3287.26  2575.67       Asia  1947-08-15\n",
              "USA          US   329.74  9833.52  19485.4  N.America  1776-07-04\n",
              "IDN   Indonesia   268.07  1910.93  1015.54       Asia  1945-08-17\n",
              "BRA      Brazil   210.32  8515.77  2055.51  S.America  1822-09-07\n",
              "PAK    Pakistan   205.71   881.91   302.14       Asia  1947-08-14\n",
              "NGA     Nigeria   200.96   923.77   375.77     Africa  1960-10-01\n",
              "BGD  Bangladesh   167.09   147.57   245.63       Asia  1971-03-26\n",
              "RUS      Russia   146.79  17098.2  1530.75        NaN  1992-06-12\n",
              "MEX      Mexico   126.58  1964.38  1158.23  N.America  1810-09-16\n",
              "JPN       Japan   126.22   377.97  4872.42       Asia         NaN\n",
              "DEU     Germany    83.02   357.11   3693.2     Europe         NaN\n",
              "FRA      France    67.02   640.68  2582.49     Europe  1789-07-14\n",
              "GBR          UK    66.44    242.5  2631.23     Europe         NaN\n",
              "ITA       Italy    60.36   301.34  1943.84     Europe         NaN\n",
              "ARG   Argentina    44.94   2780.4   637.49  S.America  1816-07-09\n",
              "DZA     Algeria    43.38  2381.74   167.56     Africa  1962-07-05\n",
              "CAN      Canada    37.59  9984.67  1647.12  N.America  1867-07-01\n",
              "AUS   Australia    25.47  7692.02  1408.68    Oceania         NaN\n",
              "KAZ  Kazakhstan    18.53   2724.9   159.41       Asia  1991-12-16"
            ]
          },
          "metadata": {},
          "execution_count": 58
        }
      ]
    },
    {
      "cell_type": "markdown",
      "metadata": {
        "id": "3bjqzC80Vkdc"
      },
      "source": [
        "# Usando o Pandas `read_csv` e `to_csv`"
      ]
    },
    {
      "cell_type": "code",
      "metadata": {
        "id": "Na41s4iyVTnW"
      },
      "source": [
        "df.to_csv('/content/drive/MyDrive/dados_pandas/Real Python/paises.csv')"
      ],
      "execution_count": null,
      "outputs": []
    },
    {
      "cell_type": "code",
      "metadata": {
        "colab": {
          "base_uri": "https://localhost:8080/",
          "height": 665
        },
        "id": "2OE3YZq6XiKY",
        "outputId": "87be0abe-5cc0-45c3-ba5c-506ee42ab12d"
      },
      "source": [
        "#index_col é usado para dizer qual linha será o nome das colunas\n",
        "df = pd.read_csv('/content/drive/MyDrive/dados_pandas/Real Python/paises.csv', index_col=0)\n",
        "df"
      ],
      "execution_count": null,
      "outputs": [
        {
          "output_type": "execute_result",
          "data": {
            "text/html": [
              "<div>\n",
              "<style scoped>\n",
              "    .dataframe tbody tr th:only-of-type {\n",
              "        vertical-align: middle;\n",
              "    }\n",
              "\n",
              "    .dataframe tbody tr th {\n",
              "        vertical-align: top;\n",
              "    }\n",
              "\n",
              "    .dataframe thead th {\n",
              "        text-align: right;\n",
              "    }\n",
              "</style>\n",
              "<table border=\"1\" class=\"dataframe\">\n",
              "  <thead>\n",
              "    <tr style=\"text-align: right;\">\n",
              "      <th></th>\n",
              "      <th>COUNTRY</th>\n",
              "      <th>POP</th>\n",
              "      <th>AREA</th>\n",
              "      <th>GDP</th>\n",
              "      <th>CONT</th>\n",
              "      <th>IND_DAY</th>\n",
              "    </tr>\n",
              "  </thead>\n",
              "  <tbody>\n",
              "    <tr>\n",
              "      <th>CHN</th>\n",
              "      <td>China</td>\n",
              "      <td>1398.72</td>\n",
              "      <td>9596.96</td>\n",
              "      <td>12234.78</td>\n",
              "      <td>Asia</td>\n",
              "      <td>NaN</td>\n",
              "    </tr>\n",
              "    <tr>\n",
              "      <th>IND</th>\n",
              "      <td>India</td>\n",
              "      <td>1351.16</td>\n",
              "      <td>3287.26</td>\n",
              "      <td>2575.67</td>\n",
              "      <td>Asia</td>\n",
              "      <td>1947-08-15</td>\n",
              "    </tr>\n",
              "    <tr>\n",
              "      <th>USA</th>\n",
              "      <td>US</td>\n",
              "      <td>329.74</td>\n",
              "      <td>9833.52</td>\n",
              "      <td>19485.39</td>\n",
              "      <td>N.America</td>\n",
              "      <td>1776-07-04</td>\n",
              "    </tr>\n",
              "    <tr>\n",
              "      <th>IDN</th>\n",
              "      <td>Indonesia</td>\n",
              "      <td>268.07</td>\n",
              "      <td>1910.93</td>\n",
              "      <td>1015.54</td>\n",
              "      <td>Asia</td>\n",
              "      <td>1945-08-17</td>\n",
              "    </tr>\n",
              "    <tr>\n",
              "      <th>BRA</th>\n",
              "      <td>Brazil</td>\n",
              "      <td>210.32</td>\n",
              "      <td>8515.77</td>\n",
              "      <td>2055.51</td>\n",
              "      <td>S.America</td>\n",
              "      <td>1822-09-07</td>\n",
              "    </tr>\n",
              "    <tr>\n",
              "      <th>PAK</th>\n",
              "      <td>Pakistan</td>\n",
              "      <td>205.71</td>\n",
              "      <td>881.91</td>\n",
              "      <td>302.14</td>\n",
              "      <td>Asia</td>\n",
              "      <td>1947-08-14</td>\n",
              "    </tr>\n",
              "    <tr>\n",
              "      <th>NGA</th>\n",
              "      <td>Nigeria</td>\n",
              "      <td>200.96</td>\n",
              "      <td>923.77</td>\n",
              "      <td>375.77</td>\n",
              "      <td>Africa</td>\n",
              "      <td>1960-10-01</td>\n",
              "    </tr>\n",
              "    <tr>\n",
              "      <th>BGD</th>\n",
              "      <td>Bangladesh</td>\n",
              "      <td>167.09</td>\n",
              "      <td>147.57</td>\n",
              "      <td>245.63</td>\n",
              "      <td>Asia</td>\n",
              "      <td>1971-03-26</td>\n",
              "    </tr>\n",
              "    <tr>\n",
              "      <th>RUS</th>\n",
              "      <td>Russia</td>\n",
              "      <td>146.79</td>\n",
              "      <td>17098.25</td>\n",
              "      <td>1530.75</td>\n",
              "      <td>NaN</td>\n",
              "      <td>1992-06-12</td>\n",
              "    </tr>\n",
              "    <tr>\n",
              "      <th>MEX</th>\n",
              "      <td>Mexico</td>\n",
              "      <td>126.58</td>\n",
              "      <td>1964.38</td>\n",
              "      <td>1158.23</td>\n",
              "      <td>N.America</td>\n",
              "      <td>1810-09-16</td>\n",
              "    </tr>\n",
              "    <tr>\n",
              "      <th>JPN</th>\n",
              "      <td>Japan</td>\n",
              "      <td>126.22</td>\n",
              "      <td>377.97</td>\n",
              "      <td>4872.42</td>\n",
              "      <td>Asia</td>\n",
              "      <td>NaN</td>\n",
              "    </tr>\n",
              "    <tr>\n",
              "      <th>DEU</th>\n",
              "      <td>Germany</td>\n",
              "      <td>83.02</td>\n",
              "      <td>357.11</td>\n",
              "      <td>3693.20</td>\n",
              "      <td>Europe</td>\n",
              "      <td>NaN</td>\n",
              "    </tr>\n",
              "    <tr>\n",
              "      <th>FRA</th>\n",
              "      <td>France</td>\n",
              "      <td>67.02</td>\n",
              "      <td>640.68</td>\n",
              "      <td>2582.49</td>\n",
              "      <td>Europe</td>\n",
              "      <td>1789-07-14</td>\n",
              "    </tr>\n",
              "    <tr>\n",
              "      <th>GBR</th>\n",
              "      <td>UK</td>\n",
              "      <td>66.44</td>\n",
              "      <td>242.50</td>\n",
              "      <td>2631.23</td>\n",
              "      <td>Europe</td>\n",
              "      <td>NaN</td>\n",
              "    </tr>\n",
              "    <tr>\n",
              "      <th>ITA</th>\n",
              "      <td>Italy</td>\n",
              "      <td>60.36</td>\n",
              "      <td>301.34</td>\n",
              "      <td>1943.84</td>\n",
              "      <td>Europe</td>\n",
              "      <td>NaN</td>\n",
              "    </tr>\n",
              "    <tr>\n",
              "      <th>ARG</th>\n",
              "      <td>Argentina</td>\n",
              "      <td>44.94</td>\n",
              "      <td>2780.40</td>\n",
              "      <td>637.49</td>\n",
              "      <td>S.America</td>\n",
              "      <td>1816-07-09</td>\n",
              "    </tr>\n",
              "    <tr>\n",
              "      <th>DZA</th>\n",
              "      <td>Algeria</td>\n",
              "      <td>43.38</td>\n",
              "      <td>2381.74</td>\n",
              "      <td>167.56</td>\n",
              "      <td>Africa</td>\n",
              "      <td>1962-07-05</td>\n",
              "    </tr>\n",
              "    <tr>\n",
              "      <th>CAN</th>\n",
              "      <td>Canada</td>\n",
              "      <td>37.59</td>\n",
              "      <td>9984.67</td>\n",
              "      <td>1647.12</td>\n",
              "      <td>N.America</td>\n",
              "      <td>1867-07-01</td>\n",
              "    </tr>\n",
              "    <tr>\n",
              "      <th>AUS</th>\n",
              "      <td>Australia</td>\n",
              "      <td>25.47</td>\n",
              "      <td>7692.02</td>\n",
              "      <td>1408.68</td>\n",
              "      <td>Oceania</td>\n",
              "      <td>NaN</td>\n",
              "    </tr>\n",
              "    <tr>\n",
              "      <th>KAZ</th>\n",
              "      <td>Kazakhstan</td>\n",
              "      <td>18.53</td>\n",
              "      <td>2724.90</td>\n",
              "      <td>159.41</td>\n",
              "      <td>Asia</td>\n",
              "      <td>1991-12-16</td>\n",
              "    </tr>\n",
              "  </tbody>\n",
              "</table>\n",
              "</div>"
            ],
            "text/plain": [
              "        COUNTRY      POP      AREA       GDP       CONT     IND_DAY\n",
              "CHN       China  1398.72   9596.96  12234.78       Asia         NaN\n",
              "IND       India  1351.16   3287.26   2575.67       Asia  1947-08-15\n",
              "USA          US   329.74   9833.52  19485.39  N.America  1776-07-04\n",
              "IDN   Indonesia   268.07   1910.93   1015.54       Asia  1945-08-17\n",
              "BRA      Brazil   210.32   8515.77   2055.51  S.America  1822-09-07\n",
              "PAK    Pakistan   205.71    881.91    302.14       Asia  1947-08-14\n",
              "NGA     Nigeria   200.96    923.77    375.77     Africa  1960-10-01\n",
              "BGD  Bangladesh   167.09    147.57    245.63       Asia  1971-03-26\n",
              "RUS      Russia   146.79  17098.25   1530.75        NaN  1992-06-12\n",
              "MEX      Mexico   126.58   1964.38   1158.23  N.America  1810-09-16\n",
              "JPN       Japan   126.22    377.97   4872.42       Asia         NaN\n",
              "DEU     Germany    83.02    357.11   3693.20     Europe         NaN\n",
              "FRA      France    67.02    640.68   2582.49     Europe  1789-07-14\n",
              "GBR          UK    66.44    242.50   2631.23     Europe         NaN\n",
              "ITA       Italy    60.36    301.34   1943.84     Europe         NaN\n",
              "ARG   Argentina    44.94   2780.40    637.49  S.America  1816-07-09\n",
              "DZA     Algeria    43.38   2381.74    167.56     Africa  1962-07-05\n",
              "CAN      Canada    37.59   9984.67   1647.12  N.America  1867-07-01\n",
              "AUS   Australia    25.47   7692.02   1408.68    Oceania         NaN\n",
              "KAZ  Kazakhstan    18.53   2724.90    159.41       Asia  1991-12-16"
            ]
          },
          "metadata": {},
          "execution_count": 60
        }
      ]
    },
    {
      "cell_type": "markdown",
      "metadata": {
        "id": "x-s7nVotYh6k"
      },
      "source": [
        "# Usando o Pandas para escrever e ler arquivos do excel"
      ]
    },
    {
      "cell_type": "code",
      "metadata": {
        "colab": {
          "base_uri": "https://localhost:8080/"
        },
        "id": "T1rJrVpwY_ww",
        "outputId": "db97a3d1-dad4-4653-821d-dbeae3c5f2a0"
      },
      "source": [
        "!pip install xlsxwriter"
      ],
      "execution_count": null,
      "outputs": [
        {
          "output_type": "stream",
          "text": [
            "Requirement already satisfied: xlsxwriter in /usr/local/lib/python3.7/dist-packages (3.0.1)\n"
          ],
          "name": "stdout"
        }
      ]
    },
    {
      "cell_type": "code",
      "metadata": {
        "id": "DXYxmcl5YoDO"
      },
      "source": [
        "import xlwt\n",
        "import openpyxl\n",
        "import xlsxwriter\n",
        "import xlrd"
      ],
      "execution_count": null,
      "outputs": []
    },
    {
      "cell_type": "markdown",
      "metadata": {
        "id": "r8Z3HpA0ZZcd"
      },
      "source": [
        "**Salvar um arquivo no formato do excel**"
      ]
    },
    {
      "cell_type": "code",
      "metadata": {
        "id": "2fbWRB3kY3_9"
      },
      "source": [
        "df.to_excel('/content/drive/MyDrive/dados_pandas/Real Python/paises.xlsx')"
      ],
      "execution_count": null,
      "outputs": []
    },
    {
      "cell_type": "code",
      "metadata": {
        "id": "23lBV-MYZrSd"
      },
      "source": [
        "df = pd.read_excel('/content/drive/MyDrive/dados_pandas/Real Python/paises.xlsx', index_col=0)\n",
        "df"
      ],
      "execution_count": null,
      "outputs": []
    },
    {
      "cell_type": "code",
      "metadata": {
        "id": "iSdGAyT00o1K"
      },
      "source": [
        "#especifica o nome da aba na planilha de destino\n",
        "df = pd.DataFrame(data=data).T\n",
        "df.to_excel('/content/drive/MyDrive/dados_pandas/Real Python/data.xlsx', sheet_name='COUNTRIES')"
      ],
      "execution_count": 7,
      "outputs": []
    },
    {
      "cell_type": "code",
      "metadata": {
        "id": "sbni6B7q1Xlo"
      },
      "source": [
        "#startrow e startcol indica a partir de qual linha e coluna deve colocar os dados (a contagem começa com 0)\n",
        "df.to_excel('/content/drive/MyDrive/dados_pandas/Real Python/data-shifted.xlsx', sheet_name='COUNTRIES', startrow=2, startcol=4)"
      ],
      "execution_count": 8,
      "outputs": []
    },
    {
      "cell_type": "markdown",
      "metadata": {
        "id": "1eRE959y2O5s"
      },
      "source": [
        "Valores do parâmentro `sheet_name` para o `read_excel()`:\n",
        "\n",
        "\n",
        "*   **Índice baseado em zero** da planilha\n",
        "*   **O nome** da planilha\n",
        "*   **A lista** de índices ou nomes para ler várias folhas\n",
        "*   **O valor `none`** para ler todas as folhas\n",
        "\n",
        "\n"
      ]
    },
    {
      "cell_type": "code",
      "metadata": {
        "id": "Fa1TFhNf27hZ"
      },
      "source": [
        "df = pd.read_excel('/content/drive/MyDrive/dados_pandas/Real Python/data.xlsx', sheet_name=0, index_col=0, parse_dates=['IND_DAY'])\n"
      ],
      "execution_count": null,
      "outputs": []
    },
    {
      "cell_type": "code",
      "metadata": {
        "id": "1QG3WSQl3f3W"
      },
      "source": [
        "df = pd.read_excel('/content/drive/MyDrive/dados_pandas/Real Python/data.xlsx', sheet_name='COUNTRIES', index_col=0, parse_dates=['IND_DAY'])"
      ],
      "execution_count": null,
      "outputs": []
    },
    {
      "cell_type": "markdown",
      "metadata": {
        "id": "ItjXGYYvdGss"
      },
      "source": [
        "#Trabalhando com diferentes tipos de arquivos"
      ]
    },
    {
      "cell_type": "markdown",
      "metadata": {
        "id": "dpMj0puqdwjU"
      },
      "source": [
        "**Arquivos CSV**"
      ]
    },
    {
      "cell_type": "code",
      "metadata": {
        "id": "mtoLEuLpdGXB"
      },
      "source": [
        "df.loc['RUS','CONT']"
      ],
      "execution_count": null,
      "outputs": []
    },
    {
      "cell_type": "code",
      "metadata": {
        "id": "J3BuPKrdaM61"
      },
      "source": [
        "df.to_csv('/content/drive/MyDrive/dados_pandas/Real Python/paises_novo.csv', na_rep='(missing)')"
      ],
      "execution_count": null,
      "outputs": []
    },
    {
      "cell_type": "code",
      "metadata": {
        "id": "yYYFdnzoeqh1"
      },
      "source": [
        "pd.read_csv('/content/drive/MyDrive/dados_pandas/Real Python/paises_novo.csv', index_col=0, na_values='(missing)')"
      ],
      "execution_count": null,
      "outputs": []
    },
    {
      "cell_type": "code",
      "metadata": {
        "colab": {
          "base_uri": "https://localhost:8080/"
        },
        "id": "Cvnpi9_AezPl",
        "outputId": "6791f53b-1a27-447f-a746-ac90e718dad7"
      },
      "source": [
        "df = pd.read_csv('/content/drive/MyDrive/dados_pandas/Real Python/paises_novo.csv', index_col=0)\n",
        "df.dtypes"
      ],
      "execution_count": null,
      "outputs": [
        {
          "output_type": "execute_result",
          "data": {
            "text/plain": [
              "COUNTRY     object\n",
              "POP        float64\n",
              "AREA       float64\n",
              "GDP        float64\n",
              "CONT        object\n",
              "IND_DAY     object\n",
              "dtype: object"
            ]
          },
          "metadata": {},
          "execution_count": 73
        }
      ]
    },
    {
      "cell_type": "code",
      "metadata": {
        "id": "iqP9eKpkf51d"
      },
      "source": [
        "#parse_dates força o usu do tipo datetimes em uma coluna\n",
        "dtypes = {'POP': 'float32', 'AREA':'float32','GDP':'float32'}\n",
        "df = pd.read_csv('/content/drive/MyDrive/dados_pandas/Real Python/paises.csv', index_col=0, dtype=dtypes, parse_dates=['IND_DAY'])\n",
        "df.dtypes"
      ],
      "execution_count": null,
      "outputs": []
    },
    {
      "cell_type": "code",
      "metadata": {
        "id": "qrchRaKmknuG"
      },
      "source": [
        "df['IND_DAY']"
      ],
      "execution_count": null,
      "outputs": []
    },
    {
      "cell_type": "code",
      "metadata": {
        "id": "xYS-LfI_lbTt"
      },
      "source": [
        "#Esse formato de data exibe primeiro o nome completo do mês, depois o dia seguido por virguna e ano completo\n",
        "df.to_csv('/content/drive/MyDrive/dados_pandas/Real Python/paises_dt.csv', date_format='%B %d, %Y')"
      ],
      "execution_count": null,
      "outputs": []
    },
    {
      "cell_type": "markdown",
      "metadata": {
        "id": "Dzy2_VGWmp4n"
      },
      "source": [
        "Argumentos que podems ser passados:\n",
        "\n",
        "\n",
        "*   **sep**: Especifica qual separador vai usar nos dados\n",
        "*   **decimal**: Indica um separador decimal\n",
        "*  **encoding**: Deifine qual a codificação do arquivo\n",
        "*   **header**: especifica se deseja salvar o arquivo com o rótulo das colunas\n",
        "\n"
      ]
    },
    {
      "cell_type": "code",
      "metadata": {
        "id": "OtLtlVhgl6PL"
      },
      "source": [
        "s = df.to_csv(sep=';', header=False)\n",
        "print(s)"
      ],
      "execution_count": null,
      "outputs": []
    },
    {
      "cell_type": "markdown",
      "metadata": {
        "id": "MEZRTyOmnnG3"
      },
      "source": [
        "# Arquivos JSON"
      ]
    },
    {
      "cell_type": "code",
      "metadata": {
        "id": "vIm40-M2nqG-"
      },
      "source": [
        "df = pd.DataFrame(data=data).T\n",
        "df.to_json('/content/drive/MyDrive/dados_pandas/Real Python/data-columns.json')"
      ],
      "execution_count": null,
      "outputs": []
    },
    {
      "cell_type": "code",
      "metadata": {
        "id": "55DC4ZUGn6NG"
      },
      "source": [
        "df.to_json('/content/drive/MyDrive/dados_pandas/Real Python/data-index.json', orient = 'index')"
      ],
      "execution_count": null,
      "outputs": []
    },
    {
      "cell_type": "code",
      "metadata": {
        "id": "BEOR4hbToSsV"
      },
      "source": [
        "#não grava o rótulo das linhas\n",
        "df.to_json('/content/drive/MyDrive/dados_pandas/Real Python/data-records.json', orient = 'records')"
      ],
      "execution_count": null,
      "outputs": []
    },
    {
      "cell_type": "code",
      "metadata": {
        "id": "bE7Milyxqcno"
      },
      "source": [
        "df.to_json('/content/drive/MyDrive/dados_pandas/Real Python/data-split.json', orient = 'split')"
      ],
      "execution_count": null,
      "outputs": []
    },
    {
      "cell_type": "code",
      "metadata": {
        "colab": {
          "base_uri": "https://localhost:8080/"
        },
        "id": "GwzkQXaSoqCL",
        "outputId": "1654bbc5-99e1-4baf-af4e-8621f2c95173"
      },
      "source": [
        "df = pd.DataFrame(data=data).T\n",
        "df['IND_DAY'] = pd.to_datetime(df['IND_DAY'])\n",
        "df.dtypes"
      ],
      "execution_count": null,
      "outputs": [
        {
          "output_type": "execute_result",
          "data": {
            "text/plain": [
              "COUNTRY            object\n",
              "POP                object\n",
              "AREA               object\n",
              "GDP                object\n",
              "CONT               object\n",
              "IND_DAY    datetime64[ns]\n",
              "dtype: object"
            ]
          },
          "metadata": {},
          "execution_count": 106
        }
      ]
    },
    {
      "cell_type": "code",
      "metadata": {
        "id": "bWhSXgkypl-N"
      },
      "source": [
        "df.to_json('/content/drive/MyDrive/dados_pandas/Real Python/date-time.json')"
      ],
      "execution_count": null,
      "outputs": []
    },
    {
      "cell_type": "code",
      "metadata": {
        "id": "ztytD3oasLyW"
      },
      "source": [
        "df = pd.DataFrame(data=data).T\n",
        "df['IND_DAY'] = pd.to_datetime(df['IND_DAY'])\n",
        "df.to_json('/content/drive/MyDrive/dados_pandas/Real Python/new-data-time.json', date_format='iso', date_unit='s')"
      ],
      "execution_count": null,
      "outputs": []
    },
    {
      "cell_type": "code",
      "metadata": {
        "id": "lTVX_HPwsQQ1"
      },
      "source": [
        "df = pd.read_json('/content/drive/MyDrive/dados_pandas/Real Python/data-index.json', orient='index', convert_dates=['IND_DAY'])\n",
        "df"
      ],
      "execution_count": null,
      "outputs": []
    },
    {
      "cell_type": "markdown",
      "metadata": {
        "id": "1nlOB6gZthKX"
      },
      "source": [
        "Outros parâmentos:\n",
        "\n",
        "\n",
        "*   `encoding`: Define a codificação\n",
        "*   `convert_dates` e `default_dates`: manipula datas\n",
        "*   `dtype` e `precise_float`: mostra os tipos de dados e tras um float mais preciso\n",
        "*   `numpy=True`: Decodifica ps dados numéricos (especifico de matrizes Numpy)\n",
        "\n"
      ]
    },
    {
      "cell_type": "markdown",
      "metadata": {
        "id": "dPIqpLYIubrT"
      },
      "source": [
        "# Arquivos HTML"
      ]
    },
    {
      "cell_type": "code",
      "metadata": {
        "id": "01jiWd8cuhGj",
        "colab": {
          "base_uri": "https://localhost:8080/"
        },
        "outputId": "246f2b44-b9ee-4a98-91c8-ab004839a268"
      },
      "source": [
        "!pip install lxml html5lib"
      ],
      "execution_count": 3,
      "outputs": [
        {
          "output_type": "stream",
          "text": [
            "Requirement already satisfied: lxml in /usr/local/lib/python3.7/dist-packages (4.2.6)\n",
            "Requirement already satisfied: html5lib in /usr/local/lib/python3.7/dist-packages (1.0.1)\n",
            "Requirement already satisfied: webencodings in /usr/local/lib/python3.7/dist-packages (from html5lib) (0.5.1)\n",
            "Requirement already satisfied: six>=1.9 in /usr/local/lib/python3.7/dist-packages (from html5lib) (1.15.0)\n"
          ],
          "name": "stdout"
        }
      ]
    },
    {
      "cell_type": "code",
      "metadata": {
        "id": "mjxzrN3Ex3RI"
      },
      "source": [
        "df = pd.DataFrame(data=data).T\n",
        "df.to_html('/content/drive/MyDrive/dados_pandas/Real Python/data.html')"
      ],
      "execution_count": 4,
      "outputs": []
    },
    {
      "cell_type": "markdown",
      "metadata": {
        "id": "Sf4gypI7yhos"
      },
      "source": [
        "Alguns parâmetros:\n",
        "\n",
        "\n",
        "*   **`header`**: determina se  o rótulo das colunas será salvo ou não;\n",
        "*   **`index`**: determina se  o rótulo das linhas será salvo ou não;\n",
        "*   **`classes`**: atribui CSS\n",
        "*   **`render_links`**: especifica se deseja converer URLs em links HTML;\n",
        "*   **`table_id`**: atribui o CSS `id`a tag `table`;\n",
        "*   **`escape`**: decide se converte os caracteres `<`, `>` e `&` em cadeisas HTML seguras.\n",
        "\n"
      ]
    },
    {
      "cell_type": "code",
      "metadata": {
        "id": "xqvAJZp9yIkm"
      },
      "source": [
        "df = pd.read_html('/content/drive/MyDrive/dados_pandas/Real Python/data.html', index_col=0, parse_dates=['IND_DAY'])"
      ],
      "execution_count": null,
      "outputs": []
    },
    {
      "cell_type": "markdown",
      "metadata": {
        "id": "Nhc2QOy94KOl"
      },
      "source": [
        "# Arquivos SQL"
      ]
    },
    {
      "cell_type": "code",
      "metadata": {
        "id": "GaxLk_0X4M2w"
      },
      "source": [
        "from sqlalchemy import create_engine"
      ],
      "execution_count": 11,
      "outputs": []
    },
    {
      "cell_type": "code",
      "metadata": {
        "id": "WJJe-6Ea4aF7"
      },
      "source": [
        "engine = create_engine('sqlite:///data.db', echo=False)"
      ],
      "execution_count": 12,
      "outputs": []
    },
    {
      "cell_type": "code",
      "metadata": {
        "colab": {
          "base_uri": "https://localhost:8080/"
        },
        "id": "pKCwxFc04kFH",
        "outputId": "07f16b6f-6ebc-4638-a067-c5d483b60a5c"
      },
      "source": [
        "dtypes = {'POP':'float64','AREA':'float64','GDP':'float64','IND_DAY':'datetime64'}\n",
        "df = pd.DataFrame(data=data).T.astype(dtype=dtypes)\n",
        "df.dtypes"
      ],
      "execution_count": 16,
      "outputs": [
        {
          "output_type": "execute_result",
          "data": {
            "text/plain": [
              "COUNTRY            object\n",
              "POP               float64\n",
              "AREA              float64\n",
              "GDP               float64\n",
              "CONT               object\n",
              "IND_DAY    datetime64[ns]\n",
              "dtype: object"
            ]
          },
          "metadata": {},
          "execution_count": 16
        }
      ]
    },
    {
      "cell_type": "code",
      "metadata": {
        "id": "POo8IQYl5Kll"
      },
      "source": [
        "df.to_sql('/content/drive/MyDrive/dados_pandas/Real Python/data.db', con=engine, index_label='ID')"
      ],
      "execution_count": 17,
      "outputs": []
    },
    {
      "cell_type": "markdown",
      "metadata": {
        "id": "85stE_EC6AAC"
      },
      "source": [
        "Argumentos para usar com o `if_exits`:\n",
        "\n",
        "\n",
        "*   **`fail`**: gera um `ValueError`, é o padrão\n",
        "*   **`replace`**: descarta a tabela e insere novos valores\n",
        "*   **`append`**: Insere novos valores na tabela\n",
        "\n"
      ]
    },
    {
      "cell_type": "code",
      "metadata": {
        "colab": {
          "base_uri": "https://localhost:8080/",
          "height": 696
        },
        "id": "kjDyJfuO5rPw",
        "outputId": "4891d052-973d-4ca3-956e-6fe01c67849e"
      },
      "source": [
        "#não precisa passar parse_dates pq o banco de dados já detecta automaticamente\n",
        "df = pd.read_sql('/content/drive/MyDrive/dados_pandas/Real Python/data.db', con=engine, index_col='ID')\n",
        "df"
      ],
      "execution_count": 18,
      "outputs": [
        {
          "output_type": "execute_result",
          "data": {
            "text/html": [
              "<div>\n",
              "<style scoped>\n",
              "    .dataframe tbody tr th:only-of-type {\n",
              "        vertical-align: middle;\n",
              "    }\n",
              "\n",
              "    .dataframe tbody tr th {\n",
              "        vertical-align: top;\n",
              "    }\n",
              "\n",
              "    .dataframe thead th {\n",
              "        text-align: right;\n",
              "    }\n",
              "</style>\n",
              "<table border=\"1\" class=\"dataframe\">\n",
              "  <thead>\n",
              "    <tr style=\"text-align: right;\">\n",
              "      <th></th>\n",
              "      <th>COUNTRY</th>\n",
              "      <th>POP</th>\n",
              "      <th>AREA</th>\n",
              "      <th>GDP</th>\n",
              "      <th>CONT</th>\n",
              "      <th>IND_DAY</th>\n",
              "    </tr>\n",
              "    <tr>\n",
              "      <th>ID</th>\n",
              "      <th></th>\n",
              "      <th></th>\n",
              "      <th></th>\n",
              "      <th></th>\n",
              "      <th></th>\n",
              "      <th></th>\n",
              "    </tr>\n",
              "  </thead>\n",
              "  <tbody>\n",
              "    <tr>\n",
              "      <th>CHN</th>\n",
              "      <td>China</td>\n",
              "      <td>1398.72</td>\n",
              "      <td>9596.96</td>\n",
              "      <td>12234.78</td>\n",
              "      <td>Asia</td>\n",
              "      <td>NaT</td>\n",
              "    </tr>\n",
              "    <tr>\n",
              "      <th>IND</th>\n",
              "      <td>India</td>\n",
              "      <td>1351.16</td>\n",
              "      <td>3287.26</td>\n",
              "      <td>2575.67</td>\n",
              "      <td>Asia</td>\n",
              "      <td>1947-08-15</td>\n",
              "    </tr>\n",
              "    <tr>\n",
              "      <th>USA</th>\n",
              "      <td>US</td>\n",
              "      <td>329.74</td>\n",
              "      <td>9833.52</td>\n",
              "      <td>19485.39</td>\n",
              "      <td>N.America</td>\n",
              "      <td>1776-07-04</td>\n",
              "    </tr>\n",
              "    <tr>\n",
              "      <th>IDN</th>\n",
              "      <td>Indonesia</td>\n",
              "      <td>268.07</td>\n",
              "      <td>1910.93</td>\n",
              "      <td>1015.54</td>\n",
              "      <td>Asia</td>\n",
              "      <td>1945-08-17</td>\n",
              "    </tr>\n",
              "    <tr>\n",
              "      <th>BRA</th>\n",
              "      <td>Brazil</td>\n",
              "      <td>210.32</td>\n",
              "      <td>8515.77</td>\n",
              "      <td>2055.51</td>\n",
              "      <td>S.America</td>\n",
              "      <td>1822-09-07</td>\n",
              "    </tr>\n",
              "    <tr>\n",
              "      <th>PAK</th>\n",
              "      <td>Pakistan</td>\n",
              "      <td>205.71</td>\n",
              "      <td>881.91</td>\n",
              "      <td>302.14</td>\n",
              "      <td>Asia</td>\n",
              "      <td>1947-08-14</td>\n",
              "    </tr>\n",
              "    <tr>\n",
              "      <th>NGA</th>\n",
              "      <td>Nigeria</td>\n",
              "      <td>200.96</td>\n",
              "      <td>923.77</td>\n",
              "      <td>375.77</td>\n",
              "      <td>Africa</td>\n",
              "      <td>1960-10-01</td>\n",
              "    </tr>\n",
              "    <tr>\n",
              "      <th>BGD</th>\n",
              "      <td>Bangladesh</td>\n",
              "      <td>167.09</td>\n",
              "      <td>147.57</td>\n",
              "      <td>245.63</td>\n",
              "      <td>Asia</td>\n",
              "      <td>1971-03-26</td>\n",
              "    </tr>\n",
              "    <tr>\n",
              "      <th>RUS</th>\n",
              "      <td>Russia</td>\n",
              "      <td>146.79</td>\n",
              "      <td>17098.25</td>\n",
              "      <td>1530.75</td>\n",
              "      <td>None</td>\n",
              "      <td>1992-06-12</td>\n",
              "    </tr>\n",
              "    <tr>\n",
              "      <th>MEX</th>\n",
              "      <td>Mexico</td>\n",
              "      <td>126.58</td>\n",
              "      <td>1964.38</td>\n",
              "      <td>1158.23</td>\n",
              "      <td>N.America</td>\n",
              "      <td>1810-09-16</td>\n",
              "    </tr>\n",
              "    <tr>\n",
              "      <th>JPN</th>\n",
              "      <td>Japan</td>\n",
              "      <td>126.22</td>\n",
              "      <td>377.97</td>\n",
              "      <td>4872.42</td>\n",
              "      <td>Asia</td>\n",
              "      <td>NaT</td>\n",
              "    </tr>\n",
              "    <tr>\n",
              "      <th>DEU</th>\n",
              "      <td>Germany</td>\n",
              "      <td>83.02</td>\n",
              "      <td>357.11</td>\n",
              "      <td>3693.20</td>\n",
              "      <td>Europe</td>\n",
              "      <td>NaT</td>\n",
              "    </tr>\n",
              "    <tr>\n",
              "      <th>FRA</th>\n",
              "      <td>France</td>\n",
              "      <td>67.02</td>\n",
              "      <td>640.68</td>\n",
              "      <td>2582.49</td>\n",
              "      <td>Europe</td>\n",
              "      <td>1789-07-14</td>\n",
              "    </tr>\n",
              "    <tr>\n",
              "      <th>GBR</th>\n",
              "      <td>UK</td>\n",
              "      <td>66.44</td>\n",
              "      <td>242.50</td>\n",
              "      <td>2631.23</td>\n",
              "      <td>Europe</td>\n",
              "      <td>NaT</td>\n",
              "    </tr>\n",
              "    <tr>\n",
              "      <th>ITA</th>\n",
              "      <td>Italy</td>\n",
              "      <td>60.36</td>\n",
              "      <td>301.34</td>\n",
              "      <td>1943.84</td>\n",
              "      <td>Europe</td>\n",
              "      <td>NaT</td>\n",
              "    </tr>\n",
              "    <tr>\n",
              "      <th>ARG</th>\n",
              "      <td>Argentina</td>\n",
              "      <td>44.94</td>\n",
              "      <td>2780.40</td>\n",
              "      <td>637.49</td>\n",
              "      <td>S.America</td>\n",
              "      <td>1816-07-09</td>\n",
              "    </tr>\n",
              "    <tr>\n",
              "      <th>DZA</th>\n",
              "      <td>Algeria</td>\n",
              "      <td>43.38</td>\n",
              "      <td>2381.74</td>\n",
              "      <td>167.56</td>\n",
              "      <td>Africa</td>\n",
              "      <td>1962-07-05</td>\n",
              "    </tr>\n",
              "    <tr>\n",
              "      <th>CAN</th>\n",
              "      <td>Canada</td>\n",
              "      <td>37.59</td>\n",
              "      <td>9984.67</td>\n",
              "      <td>1647.12</td>\n",
              "      <td>N.America</td>\n",
              "      <td>1867-07-01</td>\n",
              "    </tr>\n",
              "    <tr>\n",
              "      <th>AUS</th>\n",
              "      <td>Australia</td>\n",
              "      <td>25.47</td>\n",
              "      <td>7692.02</td>\n",
              "      <td>1408.68</td>\n",
              "      <td>Oceania</td>\n",
              "      <td>NaT</td>\n",
              "    </tr>\n",
              "    <tr>\n",
              "      <th>KAZ</th>\n",
              "      <td>Kazakhstan</td>\n",
              "      <td>18.53</td>\n",
              "      <td>2724.90</td>\n",
              "      <td>159.41</td>\n",
              "      <td>Asia</td>\n",
              "      <td>1991-12-16</td>\n",
              "    </tr>\n",
              "  </tbody>\n",
              "</table>\n",
              "</div>"
            ],
            "text/plain": [
              "        COUNTRY      POP      AREA       GDP       CONT    IND_DAY\n",
              "ID                                                                \n",
              "CHN       China  1398.72   9596.96  12234.78       Asia        NaT\n",
              "IND       India  1351.16   3287.26   2575.67       Asia 1947-08-15\n",
              "USA          US   329.74   9833.52  19485.39  N.America 1776-07-04\n",
              "IDN   Indonesia   268.07   1910.93   1015.54       Asia 1945-08-17\n",
              "BRA      Brazil   210.32   8515.77   2055.51  S.America 1822-09-07\n",
              "PAK    Pakistan   205.71    881.91    302.14       Asia 1947-08-14\n",
              "NGA     Nigeria   200.96    923.77    375.77     Africa 1960-10-01\n",
              "BGD  Bangladesh   167.09    147.57    245.63       Asia 1971-03-26\n",
              "RUS      Russia   146.79  17098.25   1530.75       None 1992-06-12\n",
              "MEX      Mexico   126.58   1964.38   1158.23  N.America 1810-09-16\n",
              "JPN       Japan   126.22    377.97   4872.42       Asia        NaT\n",
              "DEU     Germany    83.02    357.11   3693.20     Europe        NaT\n",
              "FRA      France    67.02    640.68   2582.49     Europe 1789-07-14\n",
              "GBR          UK    66.44    242.50   2631.23     Europe        NaT\n",
              "ITA       Italy    60.36    301.34   1943.84     Europe        NaT\n",
              "ARG   Argentina    44.94   2780.40    637.49  S.America 1816-07-09\n",
              "DZA     Algeria    43.38   2381.74    167.56     Africa 1962-07-05\n",
              "CAN      Canada    37.59   9984.67   1647.12  N.America 1867-07-01\n",
              "AUS   Australia    25.47   7692.02   1408.68    Oceania        NaT\n",
              "KAZ  Kazakhstan    18.53   2724.90    159.41       Asia 1991-12-16"
            ]
          },
          "metadata": {},
          "execution_count": 18
        }
      ]
    },
    {
      "cell_type": "code",
      "metadata": {
        "colab": {
          "base_uri": "https://localhost:8080/",
          "height": 665
        },
        "id": "N_gg0rgL6p6o",
        "outputId": "ef92f88e-066d-4367-f0f0-c3c55615e15f"
      },
      "source": [
        "#corrige a linha a mais que coloca por conta do título das linhas\n",
        "df.index.name= None"
      ],
      "execution_count": 19,
      "outputs": [
        {
          "output_type": "execute_result",
          "data": {
            "text/html": [
              "<div>\n",
              "<style scoped>\n",
              "    .dataframe tbody tr th:only-of-type {\n",
              "        vertical-align: middle;\n",
              "    }\n",
              "\n",
              "    .dataframe tbody tr th {\n",
              "        vertical-align: top;\n",
              "    }\n",
              "\n",
              "    .dataframe thead th {\n",
              "        text-align: right;\n",
              "    }\n",
              "</style>\n",
              "<table border=\"1\" class=\"dataframe\">\n",
              "  <thead>\n",
              "    <tr style=\"text-align: right;\">\n",
              "      <th></th>\n",
              "      <th>COUNTRY</th>\n",
              "      <th>POP</th>\n",
              "      <th>AREA</th>\n",
              "      <th>GDP</th>\n",
              "      <th>CONT</th>\n",
              "      <th>IND_DAY</th>\n",
              "    </tr>\n",
              "  </thead>\n",
              "  <tbody>\n",
              "    <tr>\n",
              "      <th>CHN</th>\n",
              "      <td>China</td>\n",
              "      <td>1398.72</td>\n",
              "      <td>9596.96</td>\n",
              "      <td>12234.78</td>\n",
              "      <td>Asia</td>\n",
              "      <td>NaT</td>\n",
              "    </tr>\n",
              "    <tr>\n",
              "      <th>IND</th>\n",
              "      <td>India</td>\n",
              "      <td>1351.16</td>\n",
              "      <td>3287.26</td>\n",
              "      <td>2575.67</td>\n",
              "      <td>Asia</td>\n",
              "      <td>1947-08-15</td>\n",
              "    </tr>\n",
              "    <tr>\n",
              "      <th>USA</th>\n",
              "      <td>US</td>\n",
              "      <td>329.74</td>\n",
              "      <td>9833.52</td>\n",
              "      <td>19485.39</td>\n",
              "      <td>N.America</td>\n",
              "      <td>1776-07-04</td>\n",
              "    </tr>\n",
              "    <tr>\n",
              "      <th>IDN</th>\n",
              "      <td>Indonesia</td>\n",
              "      <td>268.07</td>\n",
              "      <td>1910.93</td>\n",
              "      <td>1015.54</td>\n",
              "      <td>Asia</td>\n",
              "      <td>1945-08-17</td>\n",
              "    </tr>\n",
              "    <tr>\n",
              "      <th>BRA</th>\n",
              "      <td>Brazil</td>\n",
              "      <td>210.32</td>\n",
              "      <td>8515.77</td>\n",
              "      <td>2055.51</td>\n",
              "      <td>S.America</td>\n",
              "      <td>1822-09-07</td>\n",
              "    </tr>\n",
              "    <tr>\n",
              "      <th>PAK</th>\n",
              "      <td>Pakistan</td>\n",
              "      <td>205.71</td>\n",
              "      <td>881.91</td>\n",
              "      <td>302.14</td>\n",
              "      <td>Asia</td>\n",
              "      <td>1947-08-14</td>\n",
              "    </tr>\n",
              "    <tr>\n",
              "      <th>NGA</th>\n",
              "      <td>Nigeria</td>\n",
              "      <td>200.96</td>\n",
              "      <td>923.77</td>\n",
              "      <td>375.77</td>\n",
              "      <td>Africa</td>\n",
              "      <td>1960-10-01</td>\n",
              "    </tr>\n",
              "    <tr>\n",
              "      <th>BGD</th>\n",
              "      <td>Bangladesh</td>\n",
              "      <td>167.09</td>\n",
              "      <td>147.57</td>\n",
              "      <td>245.63</td>\n",
              "      <td>Asia</td>\n",
              "      <td>1971-03-26</td>\n",
              "    </tr>\n",
              "    <tr>\n",
              "      <th>RUS</th>\n",
              "      <td>Russia</td>\n",
              "      <td>146.79</td>\n",
              "      <td>17098.25</td>\n",
              "      <td>1530.75</td>\n",
              "      <td>None</td>\n",
              "      <td>1992-06-12</td>\n",
              "    </tr>\n",
              "    <tr>\n",
              "      <th>MEX</th>\n",
              "      <td>Mexico</td>\n",
              "      <td>126.58</td>\n",
              "      <td>1964.38</td>\n",
              "      <td>1158.23</td>\n",
              "      <td>N.America</td>\n",
              "      <td>1810-09-16</td>\n",
              "    </tr>\n",
              "    <tr>\n",
              "      <th>JPN</th>\n",
              "      <td>Japan</td>\n",
              "      <td>126.22</td>\n",
              "      <td>377.97</td>\n",
              "      <td>4872.42</td>\n",
              "      <td>Asia</td>\n",
              "      <td>NaT</td>\n",
              "    </tr>\n",
              "    <tr>\n",
              "      <th>DEU</th>\n",
              "      <td>Germany</td>\n",
              "      <td>83.02</td>\n",
              "      <td>357.11</td>\n",
              "      <td>3693.20</td>\n",
              "      <td>Europe</td>\n",
              "      <td>NaT</td>\n",
              "    </tr>\n",
              "    <tr>\n",
              "      <th>FRA</th>\n",
              "      <td>France</td>\n",
              "      <td>67.02</td>\n",
              "      <td>640.68</td>\n",
              "      <td>2582.49</td>\n",
              "      <td>Europe</td>\n",
              "      <td>1789-07-14</td>\n",
              "    </tr>\n",
              "    <tr>\n",
              "      <th>GBR</th>\n",
              "      <td>UK</td>\n",
              "      <td>66.44</td>\n",
              "      <td>242.50</td>\n",
              "      <td>2631.23</td>\n",
              "      <td>Europe</td>\n",
              "      <td>NaT</td>\n",
              "    </tr>\n",
              "    <tr>\n",
              "      <th>ITA</th>\n",
              "      <td>Italy</td>\n",
              "      <td>60.36</td>\n",
              "      <td>301.34</td>\n",
              "      <td>1943.84</td>\n",
              "      <td>Europe</td>\n",
              "      <td>NaT</td>\n",
              "    </tr>\n",
              "    <tr>\n",
              "      <th>ARG</th>\n",
              "      <td>Argentina</td>\n",
              "      <td>44.94</td>\n",
              "      <td>2780.40</td>\n",
              "      <td>637.49</td>\n",
              "      <td>S.America</td>\n",
              "      <td>1816-07-09</td>\n",
              "    </tr>\n",
              "    <tr>\n",
              "      <th>DZA</th>\n",
              "      <td>Algeria</td>\n",
              "      <td>43.38</td>\n",
              "      <td>2381.74</td>\n",
              "      <td>167.56</td>\n",
              "      <td>Africa</td>\n",
              "      <td>1962-07-05</td>\n",
              "    </tr>\n",
              "    <tr>\n",
              "      <th>CAN</th>\n",
              "      <td>Canada</td>\n",
              "      <td>37.59</td>\n",
              "      <td>9984.67</td>\n",
              "      <td>1647.12</td>\n",
              "      <td>N.America</td>\n",
              "      <td>1867-07-01</td>\n",
              "    </tr>\n",
              "    <tr>\n",
              "      <th>AUS</th>\n",
              "      <td>Australia</td>\n",
              "      <td>25.47</td>\n",
              "      <td>7692.02</td>\n",
              "      <td>1408.68</td>\n",
              "      <td>Oceania</td>\n",
              "      <td>NaT</td>\n",
              "    </tr>\n",
              "    <tr>\n",
              "      <th>KAZ</th>\n",
              "      <td>Kazakhstan</td>\n",
              "      <td>18.53</td>\n",
              "      <td>2724.90</td>\n",
              "      <td>159.41</td>\n",
              "      <td>Asia</td>\n",
              "      <td>1991-12-16</td>\n",
              "    </tr>\n",
              "  </tbody>\n",
              "</table>\n",
              "</div>"
            ],
            "text/plain": [
              "        COUNTRY      POP      AREA       GDP       CONT    IND_DAY\n",
              "CHN       China  1398.72   9596.96  12234.78       Asia        NaT\n",
              "IND       India  1351.16   3287.26   2575.67       Asia 1947-08-15\n",
              "USA          US   329.74   9833.52  19485.39  N.America 1776-07-04\n",
              "IDN   Indonesia   268.07   1910.93   1015.54       Asia 1945-08-17\n",
              "BRA      Brazil   210.32   8515.77   2055.51  S.America 1822-09-07\n",
              "PAK    Pakistan   205.71    881.91    302.14       Asia 1947-08-14\n",
              "NGA     Nigeria   200.96    923.77    375.77     Africa 1960-10-01\n",
              "BGD  Bangladesh   167.09    147.57    245.63       Asia 1971-03-26\n",
              "RUS      Russia   146.79  17098.25   1530.75       None 1992-06-12\n",
              "MEX      Mexico   126.58   1964.38   1158.23  N.America 1810-09-16\n",
              "JPN       Japan   126.22    377.97   4872.42       Asia        NaT\n",
              "DEU     Germany    83.02    357.11   3693.20     Europe        NaT\n",
              "FRA      France    67.02    640.68   2582.49     Europe 1789-07-14\n",
              "GBR          UK    66.44    242.50   2631.23     Europe        NaT\n",
              "ITA       Italy    60.36    301.34   1943.84     Europe        NaT\n",
              "ARG   Argentina    44.94   2780.40    637.49  S.America 1816-07-09\n",
              "DZA     Algeria    43.38   2381.74    167.56     Africa 1962-07-05\n",
              "CAN      Canada    37.59   9984.67   1647.12  N.America 1867-07-01\n",
              "AUS   Australia    25.47   7692.02   1408.68    Oceania        NaT\n",
              "KAZ  Kazakhstan    18.53   2724.90    159.41       Asia 1991-12-16"
            ]
          },
          "metadata": {},
          "execution_count": 19
        }
      ]
    },
    {
      "cell_type": "code",
      "metadata": {
        "id": "MVLgMrfg61k2"
      },
      "source": [
        "#substitue todos valores ausentes pelo valor passado em value\n",
        "df.fillna(value=float('nan'), inplace=True)\n",
        "df"
      ],
      "execution_count": null,
      "outputs": []
    },
    {
      "cell_type": "markdown",
      "metadata": {
        "id": "Lry-fTB07tBe"
      },
      "source": [
        "# Pickle Files"
      ]
    },
    {
      "cell_type": "code",
      "metadata": {
        "id": "ZI-HyW6_7xoK"
      },
      "source": [
        "dtypes = {'POP':'float64','AREA':'float64','GDP':'float64','IND_DAY':'datetime64'}\n",
        "df = pd.DataFrame(data=data).T.astype(dtype=dtypes)\n",
        "df.to_pickle('/content/drive/MyDrive/dados_pandas/Real Python/data.pickle')"
      ],
      "execution_count": 22,
      "outputs": []
    },
    {
      "cell_type": "code",
      "metadata": {
        "id": "t6fOgwcr8JqG"
      },
      "source": [
        "df = pd.read_pickle('/content/drive/MyDrive/dados_pandas/Real Python/data.pickle')\n",
        "df"
      ],
      "execution_count": null,
      "outputs": []
    },
    {
      "cell_type": "code",
      "metadata": {
        "colab": {
          "base_uri": "https://localhost:8080/"
        },
        "id": "wepknCLK8W_V",
        "outputId": "9274ddb2-e611-4db1-ac5c-03236921dfc4"
      },
      "source": [
        "df.dtypes"
      ],
      "execution_count": 24,
      "outputs": [
        {
          "output_type": "execute_result",
          "data": {
            "text/plain": [
              "COUNTRY            object\n",
              "POP               float64\n",
              "AREA              float64\n",
              "GDP               float64\n",
              "CONT               object\n",
              "IND_DAY    datetime64[ns]\n",
              "dtype: object"
            ]
          },
          "metadata": {},
          "execution_count": 24
        }
      ]
    },
    {
      "cell_type": "markdown",
      "metadata": {
        "id": "-oqeaAqh8ivN"
      },
      "source": [
        "# Trabalho com Big Data"
      ]
    },
    {
      "cell_type": "markdown",
      "metadata": {
        "id": "6_cdbN4K8sst"
      },
      "source": [
        "Dicas para trabalhar com grandes bases de dados e reduzir o espaço em disco necessário:\n",
        "\n",
        "\n",
        "\n",
        "*   **Compacte** seus arquivos\n",
        "*   **Escolha** apenas as colunas que você deseja\n",
        "*   **Omita** as linhas que você não precisa\n",
        "*   **Forçar** o uso de tipos de dados menos precisos\n",
        "*   **Divida** os dados em blocos\n",
        "\n",
        "\n"
      ]
    },
    {
      "cell_type": "markdown",
      "metadata": {
        "id": "Tv6HXAdW_GuB"
      },
      "source": [
        "**Compactar e descompactar arquivos**"
      ]
    },
    {
      "cell_type": "code",
      "metadata": {
        "id": "trHs-ITz8cKl"
      },
      "source": [
        "df = pd.DataFrame(data=data).T\n",
        "df.to_csv('/content/drive/MyDrive/dados_pandas/Real Python/data.csv.zip')"
      ],
      "execution_count": 25,
      "outputs": []
    },
    {
      "cell_type": "code",
      "metadata": {
        "id": "1E1lUSpa_icF"
      },
      "source": [
        "df = pd.read_csv('/content/drive/MyDrive/dados_pandas/Real Python/data.csv.zip', index_col=0, parse_dates=['IND_DAY'])\n",
        "df"
      ],
      "execution_count": null,
      "outputs": []
    },
    {
      "cell_type": "code",
      "metadata": {
        "id": "vKUKlh6gAOKP"
      },
      "source": [
        "df = pd.DataFrame(data=data).T\n",
        "df.to_pickle('/content/drive/MyDrive/dados_pandas/Real Python/data.pickle.compress', compression='gzip')"
      ],
      "execution_count": 30,
      "outputs": []
    },
    {
      "cell_type": "code",
      "metadata": {
        "id": "Dzop-kDwBEk2"
      },
      "source": [
        "df = pd.read_pickle('/content/drive/MyDrive/dados_pandas/Real Python/data.pickle.compress', compression='gzip')\n"
      ],
      "execution_count": null,
      "outputs": []
    },
    {
      "cell_type": "markdown",
      "metadata": {
        "id": "Fq_01EkVCBc9"
      },
      "source": [
        "**Escolha as colunas**"
      ]
    },
    {
      "cell_type": "code",
      "metadata": {
        "id": "VNIFM5CTB40v"
      },
      "source": [
        "#usecols escolhe as colunas que o dataframe trará\n",
        "df = pd.read_csv('/content/drive/MyDrive/dados_pandas/Real Python/paises.csv', usecols=['COUNTRY','AREA'])\n",
        "df"
      ],
      "execution_count": null,
      "outputs": []
    },
    {
      "cell_type": "code",
      "metadata": {
        "id": "Or7v4zx-C0KX"
      },
      "source": [
        "#Caso queira passar apenas os índices ao invés do nome das colunas\n",
        "df = pd.read_csv('/content/drive/MyDrive/dados_pandas/Real Python/paises.csv', index_col=0, usecols=[0,1,3])\n",
        "df"
      ],
      "execution_count": null,
      "outputs": []
    },
    {
      "cell_type": "code",
      "metadata": {
        "id": "U99DeAETDN3u"
      },
      "source": [
        "df = pd.read_sql('/content/drive/MyDrive/dados_pandas/Real Python/data.db', con=engine, index_col = 'ID', columns=['COUNTRY','AREA'])\n",
        "df"
      ],
      "execution_count": null,
      "outputs": []
    },
    {
      "cell_type": "markdown",
      "metadata": {
        "id": "2gy-oyYAD-HV"
      },
      "source": [
        "**Omitir linhas**"
      ]
    },
    {
      "cell_type": "markdown",
      "metadata": {
        "id": "4MeI9bNdEGht"
      },
      "source": [
        "Alguns parâmetros para selecionar só linhas:\n",
        "\n",
        "\n",
        "*   **`skiprows`**: o número de linhas a pular no início do arquivo, se for um inteiro, ou os índices baseados em zero das linhas a pular, se for um objeto em forma de lista;\n",
        "*   **`skipfooter`**: o número de linhas a pular no final do arquivo;\n",
        "*   **`nrows`**: o número de linhas para ler.\n",
        "\n"
      ]
    },
    {
      "cell_type": "code",
      "metadata": {
        "id": "sB5dyjRjDwZ8"
      },
      "source": [
        "df = pd.read_csv('/content/drive/MyDrive/dados_pandas/Real Python/paises.csv', index_col=0, skiprows=range(1,20,2))\n",
        "df"
      ],
      "execution_count": null,
      "outputs": []
    },
    {
      "cell_type": "markdown",
      "metadata": {
        "id": "WRCaIxjFFQny"
      },
      "source": [
        "**Forçar tipos de dados menos precisos**"
      ]
    },
    {
      "cell_type": "code",
      "metadata": {
        "id": "N5-uurHuE2hQ"
      },
      "source": [
        "df = pd.read_csv('/content/drive/MyDrive/dados_pandas/Real Python/paises.csv', index_col=0, parse_dates=['IND_DAY'])\n",
        "df.dtypes"
      ],
      "execution_count": null,
      "outputs": []
    },
    {
      "cell_type": "code",
      "metadata": {
        "id": "1XAx4cpSFfeL"
      },
      "source": [
        "df.memory_usage()"
      ],
      "execution_count": null,
      "outputs": []
    },
    {
      "cell_type": "code",
      "metadata": {
        "colab": {
          "base_uri": "https://localhost:8080/"
        },
        "id": "qATnMEp1FmO6",
        "outputId": "57edf237-e070-4280-de93-4d5bc80b76ed"
      },
      "source": [
        "df.loc[:, ['POP','AREA','GDP']].memory_usage(index=False).sum()"
      ],
      "execution_count": 41,
      "outputs": [
        {
          "output_type": "execute_result",
          "data": {
            "text/plain": [
              "480"
            ]
          },
          "metadata": {},
          "execution_count": 41
        }
      ]
    },
    {
      "cell_type": "code",
      "metadata": {
        "colab": {
          "base_uri": "https://localhost:8080/"
        },
        "id": "CiSM3l8GF34E",
        "outputId": "20f8b31f-e0a3-43c4-c38f-c0cb3fdd531c"
      },
      "source": [
        "df.loc[:, ['POP','AREA','GDP']].to_numpy().nbytes"
      ],
      "execution_count": 42,
      "outputs": [
        {
          "output_type": "execute_result",
          "data": {
            "text/plain": [
              "480"
            ]
          },
          "metadata": {},
          "execution_count": 42
        }
      ]
    },
    {
      "cell_type": "code",
      "metadata": {
        "id": "zJszNYRPGDKs"
      },
      "source": [
        "dtypes = {'POP':'float32','AREA':'float32','GDP':'float32'}\n",
        "df = pd.read_csv('/content/drive/MyDrive/dados_pandas/Real Python/paises.csv', index_col=0, dtype=dtypes, parse_dates=['IND_DAY'])"
      ],
      "execution_count": 43,
      "outputs": []
    },
    {
      "cell_type": "code",
      "metadata": {
        "colab": {
          "base_uri": "https://localhost:8080/"
        },
        "id": "MIm9kxMmGrwx",
        "outputId": "f712e2c0-8397-45a3-a13d-e9244f6768b7"
      },
      "source": [
        "df.dtypes"
      ],
      "execution_count": 44,
      "outputs": [
        {
          "output_type": "execute_result",
          "data": {
            "text/plain": [
              "COUNTRY            object\n",
              "POP               float32\n",
              "AREA              float32\n",
              "GDP               float32\n",
              "CONT               object\n",
              "IND_DAY    datetime64[ns]\n",
              "dtype: object"
            ]
          },
          "metadata": {},
          "execution_count": 44
        }
      ]
    },
    {
      "cell_type": "code",
      "metadata": {
        "colab": {
          "base_uri": "https://localhost:8080/"
        },
        "id": "oK1QUv7vGs-F",
        "outputId": "90125c3e-7bb0-422c-df36-cd81e2dd585a"
      },
      "source": [
        "df.memory_usage()"
      ],
      "execution_count": 45,
      "outputs": [
        {
          "output_type": "execute_result",
          "data": {
            "text/plain": [
              "Index      800\n",
              "COUNTRY    160\n",
              "POP         80\n",
              "AREA        80\n",
              "GDP         80\n",
              "CONT       160\n",
              "IND_DAY    160\n",
              "dtype: int64"
            ]
          },
          "metadata": {},
          "execution_count": 45
        }
      ]
    },
    {
      "cell_type": "code",
      "metadata": {
        "colab": {
          "base_uri": "https://localhost:8080/"
        },
        "id": "Tca_NJuPGvLM",
        "outputId": "a61e67e6-9dd2-4a38-c014-741c53708c64"
      },
      "source": [
        "df.loc[:, ['POP','AREA','GDP']].memory_usage(index=False).sum()"
      ],
      "execution_count": 46,
      "outputs": [
        {
          "output_type": "execute_result",
          "data": {
            "text/plain": [
              "240"
            ]
          },
          "metadata": {},
          "execution_count": 46
        }
      ]
    },
    {
      "cell_type": "code",
      "metadata": {
        "colab": {
          "base_uri": "https://localhost:8080/"
        },
        "id": "y66d72SKG2Ct",
        "outputId": "34b6044b-30e2-4e0c-a842-1e92bdbf5549"
      },
      "source": [
        "df.loc[:, ['POP','AREA','GDP']].to_numpy().nbytes"
      ],
      "execution_count": 47,
      "outputs": [
        {
          "output_type": "execute_result",
          "data": {
            "text/plain": [
              "240"
            ]
          },
          "metadata": {},
          "execution_count": 47
        }
      ]
    },
    {
      "cell_type": "markdown",
      "metadata": {
        "id": "sSNQWtCBG-WC"
      },
      "source": [
        "**Use pedaços para iterar arquivos**"
      ]
    },
    {
      "cell_type": "code",
      "metadata": {
        "colab": {
          "base_uri": "https://localhost:8080/"
        },
        "id": "18z47xtNG4ZF",
        "outputId": "20644e0a-49e5-4756-fe0a-6d9135bfdd3e"
      },
      "source": [
        "data_chunk = pd.read_csv('/content/drive/MyDrive/dados_pandas/Real Python/paises.csv', index_col=0, chunksize=8)\n",
        "type(data_chunk)"
      ],
      "execution_count": 48,
      "outputs": [
        {
          "output_type": "execute_result",
          "data": {
            "text/plain": [
              "pandas.io.parsers.TextFileReader"
            ]
          },
          "metadata": {},
          "execution_count": 48
        }
      ]
    },
    {
      "cell_type": "code",
      "metadata": {
        "colab": {
          "base_uri": "https://localhost:8080/"
        },
        "id": "1xSinGRpHfBV",
        "outputId": "611a8832-5d0b-428a-8436-8dace3413311"
      },
      "source": [
        "hasattr(data_chunk,'__iter__')"
      ],
      "execution_count": 49,
      "outputs": [
        {
          "output_type": "execute_result",
          "data": {
            "text/plain": [
              "True"
            ]
          },
          "metadata": {},
          "execution_count": 49
        }
      ]
    },
    {
      "cell_type": "code",
      "metadata": {
        "colab": {
          "base_uri": "https://localhost:8080/"
        },
        "id": "mLWdktS4HmlV",
        "outputId": "8bb5487a-1ae0-44e0-c777-ce41efd48786"
      },
      "source": [
        "hasattr(data_chunk,'__next__')"
      ],
      "execution_count": 50,
      "outputs": [
        {
          "output_type": "execute_result",
          "data": {
            "text/plain": [
              "True"
            ]
          },
          "metadata": {},
          "execution_count": 50
        }
      ]
    },
    {
      "cell_type": "code",
      "metadata": {
        "colab": {
          "base_uri": "https://localhost:8080/"
        },
        "id": "OQawOudnHtU1",
        "outputId": "93a121a6-ef74-4aa9-c4b7-1283175e8493"
      },
      "source": [
        "for df_chunk in pd.read_csv('/content/drive/MyDrive/dados_pandas/Real Python/paises.csv', index_col=0, chunksize=8):\n",
        "  print(df_chunk, end='\\n\\n')\n",
        "  print('memory: ', df_chunk.memory_usage().sum(), 'bytes', end='\\n\\n\\n')"
      ],
      "execution_count": 52,
      "outputs": [
        {
          "output_type": "stream",
          "text": [
            "        COUNTRY      POP     AREA       GDP       CONT     IND_DAY\n",
            "CHN       China  1398.72  9596.96  12234.78       Asia         NaN\n",
            "IND       India  1351.16  3287.26   2575.67       Asia  1947-08-15\n",
            "USA          US   329.74  9833.52  19485.39  N.America  1776-07-04\n",
            "IDN   Indonesia   268.07  1910.93   1015.54       Asia  1945-08-17\n",
            "BRA      Brazil   210.32  8515.77   2055.51  S.America  1822-09-07\n",
            "PAK    Pakistan   205.71   881.91    302.14       Asia  1947-08-14\n",
            "NGA     Nigeria   200.96   923.77    375.77     Africa  1960-10-01\n",
            "BGD  Bangladesh   167.09   147.57    245.63       Asia  1971-03-26\n",
            "\n",
            "memory:  448 bytes\n",
            "\n",
            "\n",
            "       COUNTRY     POP      AREA      GDP       CONT     IND_DAY\n",
            "RUS     Russia  146.79  17098.25  1530.75        NaN  1992-06-12\n",
            "MEX     Mexico  126.58   1964.38  1158.23  N.America  1810-09-16\n",
            "JPN      Japan  126.22    377.97  4872.42       Asia         NaN\n",
            "DEU    Germany   83.02    357.11  3693.20     Europe         NaN\n",
            "FRA     France   67.02    640.68  2582.49     Europe  1789-07-14\n",
            "GBR         UK   66.44    242.50  2631.23     Europe         NaN\n",
            "ITA      Italy   60.36    301.34  1943.84     Europe         NaN\n",
            "ARG  Argentina   44.94   2780.40   637.49  S.America  1816-07-09\n",
            "\n",
            "memory:  448 bytes\n",
            "\n",
            "\n",
            "        COUNTRY    POP     AREA      GDP       CONT     IND_DAY\n",
            "DZA     Algeria  43.38  2381.74   167.56     Africa  1962-07-05\n",
            "CAN      Canada  37.59  9984.67  1647.12  N.America  1867-07-01\n",
            "AUS   Australia  25.47  7692.02  1408.68    Oceania         NaN\n",
            "KAZ  Kazakhstan  18.53  2724.90   159.41       Asia  1991-12-16\n",
            "\n",
            "memory:  224 bytes\n",
            "\n",
            "\n"
          ],
          "name": "stdout"
        }
      ]
    }
  ]
}