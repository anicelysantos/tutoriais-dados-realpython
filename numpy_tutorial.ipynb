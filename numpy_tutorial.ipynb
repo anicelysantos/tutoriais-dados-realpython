{
  "nbformat": 4,
  "nbformat_minor": 0,
  "metadata": {
    "colab": {
      "name": "numpy-tutorial [Real Python]",
      "provenance": [],
      "mount_file_id": "1ic1ZpIqY0czzAUTPBmvIpqxbuGgDT5kk",
      "authorship_tag": "ABX9TyOT+vrYMLpBIV0Gi9x9VC1n",
      "include_colab_link": true
    },
    "kernelspec": {
      "name": "python3",
      "display_name": "Python 3"
    },
    "language_info": {
      "name": "python"
    }
  },
  "cells": [
    {
      "cell_type": "markdown",
      "metadata": {
        "id": "view-in-github",
        "colab_type": "text"
      },
      "source": [
        "<a href=\"https://colab.research.google.com/github/anicelysantos/tutoriais-dados-realpython/blob/main/numpy_tutorial.ipynb\" target=\"_parent\"><img src=\"https://colab.research.google.com/assets/colab-badge.svg\" alt=\"Open In Colab\"/></a>"
      ]
    },
    {
      "cell_type": "markdown",
      "metadata": {
        "id": "L7SREqDNecHB"
      },
      "source": [
        "*Estudos feitos a partir [desse tutorial](https://realpython.com/numpy-tutorial/) do site Real Python.*"
      ]
    },
    {
      "cell_type": "markdown",
      "metadata": {
        "id": "ACpn43GjfHPB"
      },
      "source": [
        "Você é um professor que acaba de dar notas aos seus alunos em um teste recente. Infelizmente, você pode ter tornado o teste muito desafiador e a maioria dos alunos se saiu pior do que o esperado. Para ajudar a todos para fora, você vai curva de todos os graus .\n",
        "\n",
        "No entanto, será uma curva relativamente rudimentar. Você pegará qualquer que seja a pontuação média e declarará que é C. Além disso, você se certificará de que a curva não prejudique acidentalmente as notas de seus alunos ou ajude tanto que o aluno se saia melhor do que 100%."
      ]
    },
    {
      "cell_type": "code",
      "metadata": {
        "id": "kGhyXCwHeQ3j"
      },
      "source": [
        "import numpy as np\n",
        "from numpy.random import default_rng\n",
        "from math import e, factorial"
      ],
      "execution_count": null,
      "outputs": []
    },
    {
      "cell_type": "code",
      "metadata": {
        "id": "9yGqqaYZezCs"
      },
      "source": [
        "CENTRO_CURVA = 80"
      ],
      "execution_count": null,
      "outputs": []
    },
    {
      "cell_type": "code",
      "metadata": {
        "id": "p9YUqqVzfQuq"
      },
      "source": [
        "#Cria uma matriz com as notas dos alunos\n",
        "nota = np.array([72,35,64,88,51,90,74,12])"
      ],
      "execution_count": null,
      "outputs": []
    },
    {
      "cell_type": "code",
      "metadata": {
        "id": "nhXvDGwgfa9K"
      },
      "source": [
        "def curva(nota):\n",
        "  #pega a nota que passa por parametro e tira a media\n",
        "  media = nota.mean()\n",
        "  alterar = CENTRO_CURVA - media\n",
        "  nova_nota = nota + alterar\n",
        "  #passa a nota nova, depois a antiga e por ultimo um valor que não pode ser ultrapassado\n",
        "  return np.clip(nova_nota, nota, 100)"
      ],
      "execution_count": null,
      "outputs": []
    },
    {
      "cell_type": "code",
      "metadata": {
        "colab": {
          "base_uri": "https://localhost:8080/"
        },
        "id": "Dz427c-DgHFM",
        "outputId": "370d252a-bd74-40ed-da46-e5cfbc6fa989"
      },
      "source": [
        "curva(nota)"
      ],
      "execution_count": null,
      "outputs": [
        {
          "output_type": "execute_result",
          "data": {
            "text/plain": [
              "array([ 91.25,  54.25,  83.25, 100.  ,  70.25, 100.  ,  93.25,  31.25])"
            ]
          },
          "metadata": {
            "tags": []
          },
          "execution_count": 9
        }
      ]
    },
    {
      "cell_type": "markdown",
      "metadata": {
        "id": "va-bvVu-iP4b"
      },
      "source": [
        "# Dominando formas"
      ]
    },
    {
      "cell_type": "code",
      "metadata": {
        "id": "FDIUKFirizHC"
      },
      "source": [
        "temperaturas = np.array([29.3, 42.1, 18.8, 16.1, 38.0, 12.5,\n",
        "                         12.6, 49.9, 38.6, 31.3, 9.2, 22.2\n",
        "                         ]).reshape(2,2,3)"
      ],
      "execution_count": null,
      "outputs": []
    },
    {
      "cell_type": "code",
      "metadata": {
        "colab": {
          "base_uri": "https://localhost:8080/"
        },
        "id": "QkG8mOGfjPkB",
        "outputId": "b86812bb-0498-473a-e853-fca17b26d5e2"
      },
      "source": [
        "temperaturas.shape"
      ],
      "execution_count": null,
      "outputs": [
        {
          "output_type": "execute_result",
          "data": {
            "text/plain": [
              "(2, 2, 3)"
            ]
          },
          "metadata": {
            "tags": []
          },
          "execution_count": 12
        }
      ]
    },
    {
      "cell_type": "code",
      "metadata": {
        "colab": {
          "base_uri": "https://localhost:8080/"
        },
        "id": "VMfvRCmSjTQP",
        "outputId": "0259f2e7-371c-40d8-efa7-a68befc1fa7e"
      },
      "source": [
        "temperaturas"
      ],
      "execution_count": null,
      "outputs": [
        {
          "output_type": "execute_result",
          "data": {
            "text/plain": [
              "array([[[29.3, 42.1, 18.8],\n",
              "        [16.1, 38. , 12.5]],\n",
              "\n",
              "       [[12.6, 49.9, 38.6],\n",
              "        [31.3,  9.2, 22.2]]])"
            ]
          },
          "metadata": {
            "tags": []
          },
          "execution_count": 13
        }
      ]
    },
    {
      "cell_type": "code",
      "metadata": {
        "colab": {
          "base_uri": "https://localhost:8080/"
        },
        "id": "NsdcJ8Hija3w",
        "outputId": "7df36f87-77a1-488e-eddc-b70b6647feaa"
      },
      "source": [
        "np.swapaxes(temperaturas, 1, 2)"
      ],
      "execution_count": null,
      "outputs": [
        {
          "output_type": "execute_result",
          "data": {
            "text/plain": [
              "array([[[29.3, 16.1],\n",
              "        [42.1, 38. ],\n",
              "        [18.8, 12.5]],\n",
              "\n",
              "       [[12.6, 31.3],\n",
              "        [49.9,  9.2],\n",
              "        [38.6, 22.2]]])"
            ]
          },
          "metadata": {
            "tags": []
          },
          "execution_count": 14
        }
      ]
    },
    {
      "cell_type": "markdown",
      "metadata": {
        "id": "IaJ6LMWcj97T"
      },
      "source": [
        "# Eixos"
      ]
    },
    {
      "cell_type": "code",
      "metadata": {
        "id": "uG4fsmqSkAAZ"
      },
      "source": [
        "tabela = np.array([\n",
        "                  [5,3,7,1],\n",
        "                  [2,6,7,9],\n",
        "                  [1,1,1,1],\n",
        "                  [4,3,2,0],\n",
        "\n",
        "])"
      ],
      "execution_count": null,
      "outputs": []
    },
    {
      "cell_type": "code",
      "metadata": {
        "colab": {
          "base_uri": "https://localhost:8080/"
        },
        "id": "_Brx6oeqkYqP",
        "outputId": "f74247cd-19a8-4137-b2f4-c62e5102c303"
      },
      "source": [
        "#retorna o maior valor da matriz\n",
        "tabela.max()"
      ],
      "execution_count": null,
      "outputs": [
        {
          "output_type": "execute_result",
          "data": {
            "text/plain": [
              "9"
            ]
          },
          "metadata": {
            "tags": []
          },
          "execution_count": 17
        }
      ]
    },
    {
      "cell_type": "code",
      "metadata": {
        "colab": {
          "base_uri": "https://localhost:8080/"
        },
        "id": "wtrRK0NfkgAP",
        "outputId": "2ad98d78-157e-4759-d354-f81415d26b17"
      },
      "source": [
        "#retorna o maior valor em cada eixo vertical\n",
        "tabela.max(axis=0)"
      ],
      "execution_count": null,
      "outputs": [
        {
          "output_type": "execute_result",
          "data": {
            "text/plain": [
              "array([5, 6, 7, 9])"
            ]
          },
          "metadata": {
            "tags": []
          },
          "execution_count": 18
        }
      ]
    },
    {
      "cell_type": "code",
      "metadata": {
        "colab": {
          "base_uri": "https://localhost:8080/"
        },
        "id": "6rA_P11_ksaX",
        "outputId": "04612bf9-2af4-478f-ebab-d5ba917d042d"
      },
      "source": [
        "#retorna o maior valor em cada eixo horizontal\n",
        "tabela.max(axis=1)"
      ],
      "execution_count": null,
      "outputs": [
        {
          "output_type": "execute_result",
          "data": {
            "text/plain": [
              "array([7, 9, 1, 4])"
            ]
          },
          "metadata": {
            "tags": []
          },
          "execution_count": 19
        }
      ]
    },
    {
      "cell_type": "markdown",
      "metadata": {
        "id": "Tw2B9pPNlarY"
      },
      "source": [
        "# Broadcast"
      ]
    },
    {
      "cell_type": "code",
      "metadata": {
        "colab": {
          "base_uri": "https://localhost:8080/"
        },
        "id": "60sRcRBAldDb",
        "outputId": "b0294940-d7c9-4bd7-f237-83b579243d3c"
      },
      "source": [
        "A = np.arange(32).reshape(4,1,8)\n",
        "A"
      ],
      "execution_count": null,
      "outputs": [
        {
          "output_type": "execute_result",
          "data": {
            "text/plain": [
              "array([[[ 0,  1,  2,  3,  4,  5,  6,  7]],\n",
              "\n",
              "       [[ 8,  9, 10, 11, 12, 13, 14, 15]],\n",
              "\n",
              "       [[16, 17, 18, 19, 20, 21, 22, 23]],\n",
              "\n",
              "       [[24, 25, 26, 27, 28, 29, 30, 31]]])"
            ]
          },
          "metadata": {
            "tags": []
          },
          "execution_count": 23
        }
      ]
    },
    {
      "cell_type": "code",
      "metadata": {
        "colab": {
          "base_uri": "https://localhost:8080/"
        },
        "id": "AFNC-sFJmDJt",
        "outputId": "d8b976bd-b3a7-44e4-b12a-0497adeef0a0"
      },
      "source": [
        "B = np.arange(48).reshape(1,6,8)\n",
        "B"
      ],
      "execution_count": null,
      "outputs": [
        {
          "output_type": "execute_result",
          "data": {
            "text/plain": [
              "array([[[ 0,  1,  2,  3,  4,  5,  6,  7],\n",
              "        [ 8,  9, 10, 11, 12, 13, 14, 15],\n",
              "        [16, 17, 18, 19, 20, 21, 22, 23],\n",
              "        [24, 25, 26, 27, 28, 29, 30, 31],\n",
              "        [32, 33, 34, 35, 36, 37, 38, 39],\n",
              "        [40, 41, 42, 43, 44, 45, 46, 47]]])"
            ]
          },
          "metadata": {
            "tags": []
          },
          "execution_count": 22
        }
      ]
    },
    {
      "cell_type": "code",
      "metadata": {
        "colab": {
          "base_uri": "https://localhost:8080/"
        },
        "id": "whDoVZ5smJ20",
        "outputId": "69c76259-80a6-46e5-d96b-82b51a98b0a4"
      },
      "source": [
        "A + B"
      ],
      "execution_count": null,
      "outputs": [
        {
          "output_type": "execute_result",
          "data": {
            "text/plain": [
              "array([[[ 0,  2,  4,  6,  8, 10, 12, 14],\n",
              "        [ 8, 10, 12, 14, 16, 18, 20, 22],\n",
              "        [16, 18, 20, 22, 24, 26, 28, 30],\n",
              "        [24, 26, 28, 30, 32, 34, 36, 38],\n",
              "        [32, 34, 36, 38, 40, 42, 44, 46],\n",
              "        [40, 42, 44, 46, 48, 50, 52, 54]],\n",
              "\n",
              "       [[ 8, 10, 12, 14, 16, 18, 20, 22],\n",
              "        [16, 18, 20, 22, 24, 26, 28, 30],\n",
              "        [24, 26, 28, 30, 32, 34, 36, 38],\n",
              "        [32, 34, 36, 38, 40, 42, 44, 46],\n",
              "        [40, 42, 44, 46, 48, 50, 52, 54],\n",
              "        [48, 50, 52, 54, 56, 58, 60, 62]],\n",
              "\n",
              "       [[16, 18, 20, 22, 24, 26, 28, 30],\n",
              "        [24, 26, 28, 30, 32, 34, 36, 38],\n",
              "        [32, 34, 36, 38, 40, 42, 44, 46],\n",
              "        [40, 42, 44, 46, 48, 50, 52, 54],\n",
              "        [48, 50, 52, 54, 56, 58, 60, 62],\n",
              "        [56, 58, 60, 62, 64, 66, 68, 70]],\n",
              "\n",
              "       [[24, 26, 28, 30, 32, 34, 36, 38],\n",
              "        [32, 34, 36, 38, 40, 42, 44, 46],\n",
              "        [40, 42, 44, 46, 48, 50, 52, 54],\n",
              "        [48, 50, 52, 54, 56, 58, 60, 62],\n",
              "        [56, 58, 60, 62, 64, 66, 68, 70],\n",
              "        [64, 66, 68, 70, 72, 74, 76, 78]]])"
            ]
          },
          "metadata": {
            "tags": []
          },
          "execution_count": 24
        }
      ]
    },
    {
      "cell_type": "markdown",
      "metadata": {
        "id": "gD1zHP4YqnDe"
      },
      "source": [
        "# Filtro, ordenação e agrupamento"
      ]
    },
    {
      "cell_type": "markdown",
      "metadata": {
        "id": "thGbbGk3qsn8"
      },
      "source": [
        "**O quadrado mágico de Dürier**\n",
        "\n",
        "O quadrado do número abaixo tem algumas propriedades incríveis. Se você somar qualquer uma das linhas, colunas ou diagonais, obterá o mesmo número, 34. Isso também é o que obterá se somar cada um dos quatro quadrantes, os quatro quadrados centrais, os quatro cantos quadrados, ou os quatro quadrados de canto de qualquer uma das grades 3 × 3 contidas. Você vai provar isso!"
      ]
    },
    {
      "cell_type": "code",
      "metadata": {
        "id": "esz6PoO1rGib"
      },
      "source": [
        "quadrado = np.array([\n",
        "                     [16, 3, 2, 13],\n",
        "                     [5,10,11,8],\n",
        "                     [9,6,7,12],\n",
        "                     [4,15,14,1]\n",
        "])"
      ],
      "execution_count": null,
      "outputs": []
    },
    {
      "cell_type": "code",
      "metadata": {
        "id": "3BLNB_YCrg3i"
      },
      "source": [
        "for i in range(4):\n",
        "  assert quadrado[:, i].sum() == 34\n",
        "  assert quadrado[i, :].sum() == 34"
      ],
      "execution_count": null,
      "outputs": []
    },
    {
      "cell_type": "markdown",
      "metadata": {
        "id": "mePlT8CFsg7R"
      },
      "source": [
        "A soma de cada quadrante"
      ]
    },
    {
      "cell_type": "code",
      "metadata": {
        "id": "6E7I46_wrxvc"
      },
      "source": [
        "assert quadrado[:2, :2].sum() == 34"
      ],
      "execution_count": null,
      "outputs": []
    },
    {
      "cell_type": "code",
      "metadata": {
        "id": "KIF1bAnYr5lf"
      },
      "source": [
        "assert quadrado[2:, :2].sum() == 34"
      ],
      "execution_count": null,
      "outputs": []
    },
    {
      "cell_type": "code",
      "metadata": {
        "id": "Xymb0xeLr8Hu"
      },
      "source": [
        "assert quadrado[:2, 2:].sum() == 34"
      ],
      "execution_count": null,
      "outputs": []
    },
    {
      "cell_type": "code",
      "metadata": {
        "id": "6bXJB7JEr_n6"
      },
      "source": [
        "assert quadrado[2:, 2:].sum() == 34"
      ],
      "execution_count": null,
      "outputs": []
    },
    {
      "cell_type": "markdown",
      "metadata": {
        "id": "1CeG2PW4sm9B"
      },
      "source": [
        "Versão simplificada pra somar os quadrantes"
      ]
    },
    {
      "cell_type": "code",
      "metadata": {
        "id": "f4WoA_i-sMjH"
      },
      "source": [
        "quadrado.sum(axis=1)"
      ],
      "execution_count": null,
      "outputs": []
    },
    {
      "cell_type": "markdown",
      "metadata": {
        "id": "f4QOZmJzwrva"
      },
      "source": [
        "**Filtros**"
      ]
    },
    {
      "cell_type": "code",
      "metadata": {
        "id": "Lcg9uFihwpG6"
      },
      "source": [
        "numeros = np.linspace(5,50,24, dtype=int).reshape(4,-1)"
      ],
      "execution_count": null,
      "outputs": []
    },
    {
      "cell_type": "code",
      "metadata": {
        "colab": {
          "base_uri": "https://localhost:8080/"
        },
        "id": "3xAxG1Ptw5k7",
        "outputId": "7bd94657-3dc2-4ed4-e40b-105f187d7b96"
      },
      "source": [
        "numeros"
      ],
      "execution_count": null,
      "outputs": [
        {
          "output_type": "execute_result",
          "data": {
            "text/plain": [
              "array([[ 5,  6,  8, 10, 12, 14],\n",
              "       [16, 18, 20, 22, 24, 26],\n",
              "       [28, 30, 32, 34, 36, 38],\n",
              "       [40, 42, 44, 46, 48, 50]])"
            ]
          },
          "metadata": {
            "tags": []
          },
          "execution_count": 36
        }
      ]
    },
    {
      "cell_type": "code",
      "metadata": {
        "id": "YF0AcpjIxCYw"
      },
      "source": [
        "#Analisa de cada elemento da matriz divide por 4\n",
        "mascara = numeros % 4 == 0"
      ],
      "execution_count": null,
      "outputs": []
    },
    {
      "cell_type": "code",
      "metadata": {
        "colab": {
          "base_uri": "https://localhost:8080/"
        },
        "id": "2gfkZQq2xGPu",
        "outputId": "eb3eaaee-8884-40f4-d195-1d7f930b323b"
      },
      "source": [
        "mascara"
      ],
      "execution_count": null,
      "outputs": [
        {
          "output_type": "execute_result",
          "data": {
            "text/plain": [
              "array([[False, False,  True, False,  True, False],\n",
              "       [ True, False,  True, False,  True, False],\n",
              "       [ True, False,  True, False,  True, False],\n",
              "       [ True, False,  True, False,  True, False]])"
            ]
          },
          "metadata": {
            "tags": []
          },
          "execution_count": 38
        }
      ]
    },
    {
      "cell_type": "code",
      "metadata": {
        "colab": {
          "base_uri": "https://localhost:8080/"
        },
        "id": "WpSJc2vIxLdw",
        "outputId": "0640b63e-d6ee-44be-de34-490462e2f6ce"
      },
      "source": [
        "numeros[mascara]"
      ],
      "execution_count": null,
      "outputs": [
        {
          "output_type": "execute_result",
          "data": {
            "text/plain": [
              "array([ 8, 12, 16, 20, 24, 28, 32, 36, 40, 44, 48])"
            ]
          },
          "metadata": {
            "tags": []
          },
          "execution_count": 39
        }
      ]
    },
    {
      "cell_type": "code",
      "metadata": {
        "id": "bGFIhlCJxRhv"
      },
      "source": [
        "por_quatro = numeros[numeros % 4 == 0]"
      ],
      "execution_count": null,
      "outputs": []
    },
    {
      "cell_type": "code",
      "metadata": {
        "colab": {
          "base_uri": "https://localhost:8080/"
        },
        "id": "vi3JV9BWxb45",
        "outputId": "5c68a59c-1fc8-4784-a60f-890ca07e74a3"
      },
      "source": [
        "por_quatro"
      ],
      "execution_count": null,
      "outputs": [
        {
          "output_type": "execute_result",
          "data": {
            "text/plain": [
              "array([ 8, 12, 16, 20, 24, 28, 32, 36, 40, 44, 48])"
            ]
          },
          "metadata": {
            "tags": []
          },
          "execution_count": 42
        }
      ]
    },
    {
      "cell_type": "markdown",
      "metadata": {
        "id": "AHz-Waz4ypui"
      },
      "source": [
        "**Gerando valores aleatórios**"
      ]
    },
    {
      "cell_type": "code",
      "metadata": {
        "id": "-l7sR7mByujC"
      },
      "source": [
        "rng = default_rng()"
      ],
      "execution_count": null,
      "outputs": []
    },
    {
      "cell_type": "code",
      "metadata": {
        "id": "L8J1WriWzG_c"
      },
      "source": [
        "valores = rng.standard_normal(10000)"
      ],
      "execution_count": null,
      "outputs": []
    },
    {
      "cell_type": "code",
      "metadata": {
        "colab": {
          "base_uri": "https://localhost:8080/"
        },
        "id": "ALnfaBYmzNIl",
        "outputId": "a976c5d2-987b-45c9-a8b7-6b9bf0cc2fb7"
      },
      "source": [
        "valores[:5]"
      ],
      "execution_count": null,
      "outputs": [
        {
          "output_type": "execute_result",
          "data": {
            "text/plain": [
              "array([-0.5294331 , -0.34707002, -0.27918764,  0.10261779, -0.79439257])"
            ]
          },
          "metadata": {
            "tags": []
          },
          "execution_count": 49
        }
      ]
    },
    {
      "cell_type": "code",
      "metadata": {
        "id": "-i5aO2k-zYmP"
      },
      "source": [
        "std = valores.std()"
      ],
      "execution_count": null,
      "outputs": []
    },
    {
      "cell_type": "code",
      "metadata": {
        "colab": {
          "base_uri": "https://localhost:8080/"
        },
        "id": "zI7g4KDEzfdc",
        "outputId": "26992292-76f5-4b68-92de-d53e699ec5b7"
      },
      "source": [
        "std"
      ],
      "execution_count": null,
      "outputs": [
        {
          "output_type": "execute_result",
          "data": {
            "text/plain": [
              "0.9965198315951587"
            ]
          },
          "metadata": {
            "tags": []
          },
          "execution_count": 51
        }
      ]
    },
    {
      "cell_type": "code",
      "metadata": {
        "id": "zRMaY5ODzjRp"
      },
      "source": [
        "filtrado = valores[(valores > -2 * std) & (valores < 2 * std)]"
      ],
      "execution_count": null,
      "outputs": []
    },
    {
      "cell_type": "code",
      "metadata": {
        "colab": {
          "base_uri": "https://localhost:8080/"
        },
        "id": "AZUHbyKYz_N3",
        "outputId": "0a2c0c10-bc3e-47ec-cd4a-d7aec2effc9d"
      },
      "source": [
        "filtrado.size"
      ],
      "execution_count": null,
      "outputs": [
        {
          "output_type": "execute_result",
          "data": {
            "text/plain": [
              "9546"
            ]
          },
          "metadata": {
            "tags": []
          },
          "execution_count": 57
        }
      ]
    },
    {
      "cell_type": "code",
      "metadata": {
        "colab": {
          "base_uri": "https://localhost:8080/"
        },
        "id": "eTDqTkJJ0I2q",
        "outputId": "b89f42e0-3f33-44b8-e0b2-8f393d910005"
      },
      "source": [
        "valores.size"
      ],
      "execution_count": null,
      "outputs": [
        {
          "output_type": "execute_result",
          "data": {
            "text/plain": [
              "10000"
            ]
          },
          "metadata": {
            "tags": []
          },
          "execution_count": 58
        }
      ]
    },
    {
      "cell_type": "code",
      "metadata": {
        "colab": {
          "base_uri": "https://localhost:8080/"
        },
        "id": "k8M-hHbX0Lcz",
        "outputId": "60f2cea5-0cce-47dd-9392-906f9b094d86"
      },
      "source": [
        "filtrado.size / valores.size"
      ],
      "execution_count": null,
      "outputs": [
        {
          "output_type": "execute_result",
          "data": {
            "text/plain": [
              "0.9546"
            ]
          },
          "metadata": {
            "tags": []
          },
          "execution_count": 59
        }
      ]
    },
    {
      "cell_type": "markdown",
      "metadata": {
        "id": "vUZsvp5j0dLK"
      },
      "source": [
        "**Transposição, classificação e concatenação**"
      ]
    },
    {
      "cell_type": "code",
      "metadata": {
        "id": "0w6we5fx0l7L"
      },
      "source": [
        "a = np.array([\n",
        "              [1,2],\n",
        "              [3,4],\n",
        "              [5,6],\n",
        "])"
      ],
      "execution_count": null,
      "outputs": []
    },
    {
      "cell_type": "code",
      "metadata": {
        "colab": {
          "base_uri": "https://localhost:8080/"
        },
        "id": "aFKIXaxi15DG",
        "outputId": "5ba7b53d-f303-40e4-c2b1-b991006b4e34"
      },
      "source": [
        "a.T"
      ],
      "execution_count": null,
      "outputs": [
        {
          "output_type": "execute_result",
          "data": {
            "text/plain": [
              "array([[1, 3, 5],\n",
              "       [2, 4, 6]])"
            ]
          },
          "metadata": {
            "tags": []
          },
          "execution_count": 65
        }
      ]
    },
    {
      "cell_type": "code",
      "metadata": {
        "colab": {
          "base_uri": "https://localhost:8080/"
        },
        "id": "XQ4Ni5lQ19mX",
        "outputId": "5052cefd-d192-4f59-a49b-dbfa8a564e64"
      },
      "source": [
        "a.transpose()"
      ],
      "execution_count": null,
      "outputs": [
        {
          "output_type": "execute_result",
          "data": {
            "text/plain": [
              "array([[1, 3, 5],\n",
              "       [2, 4, 6]])"
            ]
          },
          "metadata": {
            "tags": []
          },
          "execution_count": 66
        }
      ]
    },
    {
      "cell_type": "markdown",
      "metadata": {
        "id": "mBjcqzDl2TDf"
      },
      "source": [
        "**Classificação**"
      ]
    },
    {
      "cell_type": "code",
      "metadata": {
        "id": "yBosra-Z2WZ5"
      },
      "source": [
        "data = np.array([\n",
        "                 [7,1,4],\n",
        "                 [8,6,5],\n",
        "                 [1,2,3]\n",
        "])"
      ],
      "execution_count": null,
      "outputs": []
    },
    {
      "cell_type": "code",
      "metadata": {
        "colab": {
          "base_uri": "https://localhost:8080/"
        },
        "id": "jV_vsGPO2kLL",
        "outputId": "9c64618f-0f38-491b-fc27-25426b5c32a5"
      },
      "source": [
        "np.sort(data)"
      ],
      "execution_count": null,
      "outputs": [
        {
          "output_type": "execute_result",
          "data": {
            "text/plain": [
              "array([[1, 4, 7],\n",
              "       [5, 6, 8],\n",
              "       [1, 2, 3]])"
            ]
          },
          "metadata": {
            "tags": []
          },
          "execution_count": 68
        }
      ]
    },
    {
      "cell_type": "code",
      "metadata": {
        "colab": {
          "base_uri": "https://localhost:8080/"
        },
        "id": "sc318nWm2omM",
        "outputId": "6aab48b6-e629-4162-a382-36b3637465ef"
      },
      "source": [
        "np.sort(data, axis=None)"
      ],
      "execution_count": null,
      "outputs": [
        {
          "output_type": "execute_result",
          "data": {
            "text/plain": [
              "array([1, 1, 2, 3, 4, 5, 6, 7, 8])"
            ]
          },
          "metadata": {
            "tags": []
          },
          "execution_count": 69
        }
      ]
    },
    {
      "cell_type": "code",
      "metadata": {
        "colab": {
          "base_uri": "https://localhost:8080/"
        },
        "id": "s567bEly21-_",
        "outputId": "8dd4e933-5db2-415f-fc65-338a305ebc44"
      },
      "source": [
        "np.sort(data, axis=0)"
      ],
      "execution_count": null,
      "outputs": [
        {
          "output_type": "execute_result",
          "data": {
            "text/plain": [
              "array([[1, 1, 3],\n",
              "       [7, 2, 4],\n",
              "       [8, 6, 5]])"
            ]
          },
          "metadata": {
            "tags": []
          },
          "execution_count": 70
        }
      ]
    },
    {
      "cell_type": "markdown",
      "metadata": {
        "id": "WExAz7n73E0_"
      },
      "source": [
        "**Concatenação**"
      ]
    },
    {
      "cell_type": "code",
      "metadata": {
        "id": "qnB0EB0Y3Ec3"
      },
      "source": [
        "a = np.array([\n",
        "              [4,8],\n",
        "              [6,1]\n",
        "])"
      ],
      "execution_count": null,
      "outputs": []
    },
    {
      "cell_type": "code",
      "metadata": {
        "id": "TBd8J31q3QQW"
      },
      "source": [
        "b = np.array([\n",
        "              [3,5],\n",
        "              [7,2]\n",
        "])"
      ],
      "execution_count": null,
      "outputs": []
    },
    {
      "cell_type": "code",
      "metadata": {
        "colab": {
          "base_uri": "https://localhost:8080/"
        },
        "id": "gjgup9Fx3YiB",
        "outputId": "c145dbb1-127c-444e-d5a5-34cceee0319e"
      },
      "source": [
        "np.hstack((a,b))"
      ],
      "execution_count": null,
      "outputs": [
        {
          "output_type": "execute_result",
          "data": {
            "text/plain": [
              "array([[4, 8, 3, 5],\n",
              "       [6, 1, 7, 2]])"
            ]
          },
          "metadata": {
            "tags": []
          },
          "execution_count": 73
        }
      ]
    },
    {
      "cell_type": "code",
      "metadata": {
        "colab": {
          "base_uri": "https://localhost:8080/"
        },
        "id": "hipzIv343f2b",
        "outputId": "ae8584c5-1823-4e84-c5de-003c9d84b09b"
      },
      "source": [
        "np.vstack((b,a))"
      ],
      "execution_count": null,
      "outputs": [
        {
          "output_type": "execute_result",
          "data": {
            "text/plain": [
              "array([[3, 5],\n",
              "       [7, 2],\n",
              "       [4, 8],\n",
              "       [6, 1]])"
            ]
          },
          "metadata": {
            "tags": []
          },
          "execution_count": 74
        }
      ]
    },
    {
      "cell_type": "code",
      "metadata": {
        "colab": {
          "base_uri": "https://localhost:8080/"
        },
        "id": "uhhtUL4Y3tlT",
        "outputId": "1dcd971a-db0d-4fa8-a3b8-db5b092b4aeb"
      },
      "source": [
        "np.concatenate((a,b))"
      ],
      "execution_count": null,
      "outputs": [
        {
          "output_type": "execute_result",
          "data": {
            "text/plain": [
              "array([[4, 8],\n",
              "       [6, 1],\n",
              "       [3, 5],\n",
              "       [7, 2]])"
            ]
          },
          "metadata": {
            "tags": []
          },
          "execution_count": 75
        }
      ]
    },
    {
      "cell_type": "code",
      "metadata": {
        "colab": {
          "base_uri": "https://localhost:8080/"
        },
        "id": "Q_xvgS233yz6",
        "outputId": "11cd6dcc-349f-4cd5-9101-0058687c00cf"
      },
      "source": [
        "np.concatenate((a, b), axis = None)"
      ],
      "execution_count": null,
      "outputs": [
        {
          "output_type": "execute_result",
          "data": {
            "text/plain": [
              "array([4, 8, 6, 1, 3, 5, 7, 2])"
            ]
          },
          "metadata": {
            "tags": []
          },
          "execution_count": 76
        }
      ]
    },
    {
      "cell_type": "markdown",
      "metadata": {
        "id": "d5IxpRMg4Pqb"
      },
      "source": [
        "# Exemplo prático 1: implementando uma série Maclaurin"
      ]
    },
    {
      "cell_type": "markdown",
      "metadata": {
        "id": "aovsUD2g4WUM"
      },
      "source": [
        "Implementando uma função"
      ]
    },
    {
      "cell_type": "markdown",
      "metadata": {
        "id": "kyXW5zw35DWr"
      },
      "source": [
        "![screenshot-realpython.com-2021.08.13-11_21_13.png](data:image/png;base64,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)"
      ]
    },
    {
      "cell_type": "code",
      "metadata": {
        "id": "tc_2Z_7r4dQf"
      },
      "source": [
        "fatorial = np.vectorize(factorial)\n"
      ],
      "execution_count": null,
      "outputs": []
    },
    {
      "cell_type": "code",
      "metadata": {
        "colab": {
          "base_uri": "https://localhost:8080/"
        },
        "id": "Yhx5KnhQ5hzw",
        "outputId": "b2a96a05-2937-4866-af41-4300d43d7047"
      },
      "source": [
        "def e_x(x, terms=10):\n",
        "\n",
        "  n = np.arange(terms)\n",
        "  return np.sum((x ** n) / fatorial(n))\n",
        "\n",
        "if __name__ == \"__main__\":\n",
        "  print(\"Atual:\", e ** 3) #Uso da versão extendida da biblioteca importada lá em cima\n",
        "\n",
        "  print(\"N (terms) \\tMaclaurin\\tError\")\n",
        "\n",
        "  for n in range(1,14):\n",
        "    maclaurin = e_x(3, terms=n)\n",
        "    print(f'{n}\\t\\t{maclaurin: .03f}\\t\\t{e**3 - maclaurin:.03f}')"
      ],
      "execution_count": null,
      "outputs": [
        {
          "output_type": "stream",
          "text": [
            "Atual: 20.085536923187664\n",
            "N (terms) \tMaclaurin\tError\n",
            "1\t\t 1.000\t\t19.086\n",
            "2\t\t 4.000\t\t16.086\n",
            "3\t\t 8.500\t\t11.586\n",
            "4\t\t 13.000\t\t7.086\n",
            "5\t\t 16.375\t\t3.711\n",
            "6\t\t 18.400\t\t1.686\n",
            "7\t\t 19.412\t\t0.673\n",
            "8\t\t 19.846\t\t0.239\n",
            "9\t\t 20.009\t\t0.076\n",
            "10\t\t 20.063\t\t0.022\n",
            "11\t\t 20.080\t\t0.006\n",
            "12\t\t 20.084\t\t0.001\n",
            "13\t\t 20.085\t\t0.000\n"
          ],
          "name": "stdout"
        }
      ]
    },
    {
      "cell_type": "code",
      "metadata": {
        "id": "FfnrUkVL77H5"
      },
      "source": [
        "#outra maneira de fazer a mesma coisa\n",
        "n = np.arange(terms)\n",
        "return np.sum((x ** n) / fac(n))"
      ],
      "execution_count": null,
      "outputs": []
    },
    {
      "cell_type": "markdown",
      "metadata": {
        "id": "NEHqmmHU_brt"
      },
      "source": [
        "# Manipulando imagens com Matplotlib"
      ]
    },
    {
      "cell_type": "code",
      "metadata": {
        "id": "L9YQnVnK8l6L"
      },
      "source": [
        "import matplotlib.image as mpimg"
      ],
      "execution_count": null,
      "outputs": []
    },
    {
      "cell_type": "code",
      "metadata": {
        "colab": {
          "base_uri": "https://localhost:8080/"
        },
        "id": "JKK41uw9AKJk",
        "outputId": "04d7145a-960f-41af-ba63-e759e8f72c21"
      },
      "source": [
        "img = mpimg.imread('/content/drive/MyDrive/dados_pandas/gatinho.jpg')\n",
        "print(type(img))\n",
        "print(img.shape)"
      ],
      "execution_count": null,
      "outputs": [
        {
          "output_type": "stream",
          "text": [
            "<class 'numpy.ndarray'>\n",
            "(1299, 1920, 3)\n"
          ],
          "name": "stdout"
        }
      ]
    },
    {
      "cell_type": "markdown",
      "metadata": {
        "id": "LeL7BzNDAhzT"
      },
      "source": [
        "Mudar a cor dos pixels da imagem"
      ]
    },
    {
      "cell_type": "code",
      "metadata": {
        "id": "cE-j4EnnAkWm"
      },
      "source": [
        "#Gatinho azul\n",
        "output = img.copy() #Lendo a versão original da imagem\n",
        "output[:, :, :2] = 0\n",
        "mpimg.imsave('blue.jpg', output)"
      ],
      "execution_count": null,
      "outputs": []
    },
    {
      "cell_type": "code",
      "metadata": {
        "id": "ntq_kdqRBiH3"
      },
      "source": [
        "#Gatinho Cinza\n",
        "output = img.copy()\n",
        "averages = img.mean(axis=2) #pega a media de cada R, G e B\n",
        "mpimg.imsave('bad-gray.jpeg', averages, cmap = 'gray')"
      ],
      "execution_count": null,
      "outputs": []
    },
    {
      "cell_type": "code",
      "metadata": {
        "id": "ujIrc4g7CTjr"
      },
      "source": [
        "#Melhorando a luminosidade do Gatinho cinza\n",
        "output = img.copy()\n",
        "weights = np.array([0.3,0.59,0.11])\n",
        "grayscale = img @ weights\n",
        "mpimg.imsave('good-gray.jpg', grayscale, cmap='gray')"
      ],
      "execution_count": null,
      "outputs": []
    }
  ]
}